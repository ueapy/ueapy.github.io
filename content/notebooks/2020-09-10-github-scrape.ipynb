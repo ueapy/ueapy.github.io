{
 "cells": [
  {
   "cell_type": "code",
   "execution_count": 1,
   "metadata": {},
   "outputs": [],
   "source": [
    "name = \"2020-09-10-github-scrape\"\n",
    "title = \"Scraping GitHub after a hackweek\"\n",
    "tags = \"requests, github, webscrape, pandas, dataviz, text processing\"\n",
    "author = \"Callum Rollo\""
   ]
  },
  {
   "cell_type": "code",
   "execution_count": 2,
   "metadata": {},
   "outputs": [],
   "source": [
    "from nb_tools import connect_notebook_to_post\n",
    "from IPython.core.display import HTML\n",
    "\n",
    "html = connect_notebook_to_post(name, title, tags, author)"
   ]
  },
  {
   "cell_type": "markdown",
   "metadata": {},
   "source": [
    "### A meta-hackweek hack\n",
    "\n",
    "I put this notebook together after attending the excellent [Oceean Hack Week 2020](https://oceanhackweek.github.io/) (OHW) event. You can read my blog post about it [here](https://callumrollo.github.io/hackweek.html#hackweek). A key part of the event was creating collaborative projects on GitHub. I wanted to see if attending the hackweek changed participants pattern of activity on GitHub. I though the simplest way would be to get info on all the commits by OHW participants to OHW projects.\n",
    "\n",
    "It goes without saying that **commits =/= work done on a project**. I freely admit that many of my commits are nonsense! This is just a fun side project for me to explore the github API and try some simple analysis methods."
   ]
  },
  {
   "cell_type": "markdown",
   "metadata": {},
   "source": [
    "First off, to access the [Github API](https://docs.github.com/) you'll need to edit the credentials file `credentials.json` to supply your username and a [Github access token](https://github.blog/2013-05-16-personal-api-tokens/).\n",
    "\n",
    "```\n",
    "{\n",
    "\t\"username\": \"<your-username>\",\n",
    "\t\"token\": \"<your-access-token>\"\n",
    "}\n",
    "```\n",
    "\n",
    "Once you have supplied these creds, you are still limited to [5000 requests per hour](https://docs.github.com/en/rest/overview/resources-in-the-rest-api#rate-limiting) so, if you get bounced by the API, leave it some time to cool off. Without credentials the limit is far lower and you will would soon generate an error message like this:"
   ]
  },
  {
   "cell_type": "markdown",
   "metadata": {},
   "source": [
    "![rate limit reached](../figures/rate-limit-anon.png)"
   ]
  },
  {
   "cell_type": "markdown",
   "metadata": {},
   "source": [
    "Obviously I have not provided my own credentials! I'm not sure what action github would take if a DDOS on their API originated from my account, but I'm not willing to find out."
   ]
  },
  {
   "cell_type": "markdown",
   "metadata": {},
   "source": [
    "### Let's get scraping!"
   ]
  },
  {
   "cell_type": "code",
   "execution_count": 3,
   "metadata": {},
   "outputs": [],
   "source": [
    "import json\n",
    "import requests\n",
    "from collections import Counter\n",
    "import pandas as pd\n",
    "import numpy as np"
   ]
  },
  {
   "cell_type": "code",
   "execution_count": 6,
   "metadata": {},
   "outputs": [],
   "source": [
    "credentials = json.loads(open('credentials-secret.json').read()) #don't forget to add your creds here!\n",
    "\n",
    "username = credentials['username']\n",
    "token = credentials['token']"
   ]
  },
  {
   "cell_type": "markdown",
   "metadata": {},
   "source": [
    "For a start, let's use the API to get some details on my account"
   ]
  },
  {
   "cell_type": "code",
   "execution_count": 10,
   "metadata": {},
   "outputs": [
    {
     "data": {
      "text/plain": [
       "{'login': 'callumrollo',\n",
       " 'id': 28703282,\n",
       " 'node_id': 'MDQ6VXNlcjI4NzAzMjgy',\n",
       " 'avatar_url': 'https://avatars0.githubusercontent.com/u/28703282?v=4',\n",
       " 'gravatar_id': '',\n",
       " 'url': 'https://api.github.com/users/callumrollo',\n",
       " 'html_url': 'https://github.com/callumrollo',\n",
       " 'followers_url': 'https://api.github.com/users/callumrollo/followers',\n",
       " 'following_url': 'https://api.github.com/users/callumrollo/following{/other_user}',\n",
       " 'gists_url': 'https://api.github.com/users/callumrollo/gists{/gist_id}',\n",
       " 'starred_url': 'https://api.github.com/users/callumrollo/starred{/owner}{/repo}',\n",
       " 'subscriptions_url': 'https://api.github.com/users/callumrollo/subscriptions',\n",
       " 'organizations_url': 'https://api.github.com/users/callumrollo/orgs',\n",
       " 'repos_url': 'https://api.github.com/users/callumrollo/repos',\n",
       " 'events_url': 'https://api.github.com/users/callumrollo/events{/privacy}',\n",
       " 'received_events_url': 'https://api.github.com/users/callumrollo/received_events',\n",
       " 'type': 'User',\n",
       " 'site_admin': False,\n",
       " 'name': 'Callum Rollo',\n",
       " 'company': None,\n",
       " 'blog': 'https://callumrollo.github.io/',\n",
       " 'location': None,\n",
       " 'email': None,\n",
       " 'hireable': None,\n",
       " 'bio': 'Oceanographer, Pythonista and vim user. Regularly breaks things on Fridays',\n",
       " 'twitter_username': 'callum_rollo',\n",
       " 'public_repos': 36,\n",
       " 'public_gists': 0,\n",
       " 'followers': 18,\n",
       " 'following': 3,\n",
       " 'created_at': '2017-05-15T09:23:12Z',\n",
       " 'updated_at': '2020-10-09T14:36:52Z',\n",
       " 'private_gists': 0,\n",
       " 'total_private_repos': 7,\n",
       " 'owned_private_repos': 7,\n",
       " 'disk_usage': 389086,\n",
       " 'collaborators': 0,\n",
       " 'two_factor_authentication': True,\n",
       " 'plan': {'name': 'pro',\n",
       "  'space': 976562499,\n",
       "  'collaborators': 0,\n",
       "  'private_repos': 9999}}"
      ]
     },
     "execution_count": 10,
     "metadata": {},
     "output_type": "execute_result"
    }
   ],
   "source": [
    "user_data = requests.get('https://api.github.com/users/' + credentials['username'],auth = (username,token)).json()\n",
    "user_data"
   ]
  },
  {
   "cell_type": "markdown",
   "metadata": {},
   "source": [
    "This returns a lot of info. Now, I'll try the account of one of my collaborators `ocefpaf`. You can specify any user, though the information returned is less than when you look at your own account."
   ]
  },
  {
   "cell_type": "code",
   "execution_count": 11,
   "metadata": {},
   "outputs": [
    {
     "data": {
      "text/plain": [
       "{'login': 'ocefpaf',\n",
       " 'id': 950575,\n",
       " 'node_id': 'MDQ6VXNlcjk1MDU3NQ==',\n",
       " 'avatar_url': 'https://avatars1.githubusercontent.com/u/950575?v=4',\n",
       " 'gravatar_id': '',\n",
       " 'url': 'https://api.github.com/users/ocefpaf',\n",
       " 'html_url': 'https://github.com/ocefpaf',\n",
       " 'followers_url': 'https://api.github.com/users/ocefpaf/followers',\n",
       " 'following_url': 'https://api.github.com/users/ocefpaf/following{/other_user}',\n",
       " 'gists_url': 'https://api.github.com/users/ocefpaf/gists{/gist_id}',\n",
       " 'starred_url': 'https://api.github.com/users/ocefpaf/starred{/owner}{/repo}',\n",
       " 'subscriptions_url': 'https://api.github.com/users/ocefpaf/subscriptions',\n",
       " 'organizations_url': 'https://api.github.com/users/ocefpaf/orgs',\n",
       " 'repos_url': 'https://api.github.com/users/ocefpaf/repos',\n",
       " 'events_url': 'https://api.github.com/users/ocefpaf/events{/privacy}',\n",
       " 'received_events_url': 'https://api.github.com/users/ocefpaf/received_events',\n",
       " 'type': 'User',\n",
       " 'site_admin': False,\n",
       " 'name': 'Filipe',\n",
       " 'company': None,\n",
       " 'blog': 'http://ocefpaf.github.io/python4oceanographers',\n",
       " 'location': 'Florianópolis, SC',\n",
       " 'email': 'ocefpaf@gmail.com',\n",
       " 'hireable': True,\n",
       " 'bio': 'Physical oceanographer turned research software engineer, and software packaging hobbyist.',\n",
       " 'twitter_username': 'ocefpaf',\n",
       " 'public_repos': 1190,\n",
       " 'public_gists': 133,\n",
       " 'followers': 395,\n",
       " 'following': 4,\n",
       " 'created_at': '2011-07-31T23:10:26Z',\n",
       " 'updated_at': '2020-10-10T15:23:18Z'}"
      ]
     },
     "execution_count": 11,
     "metadata": {},
     "output_type": "execute_result"
    }
   ],
   "source": [
    "data = requests.get('https://api.github.com/users/' + 'ocefpaf',auth = (username,token)).json()\n",
    "data"
   ]
  },
  {
   "cell_type": "markdown",
   "metadata": {},
   "source": [
    "We can see a user's core stats. How about their commits and other actions taken? Simply append `/events` to the request query\n",
    "\n",
    "### Events"
   ]
  },
  {
   "cell_type": "code",
   "execution_count": 12,
   "metadata": {},
   "outputs": [
    {
     "data": {
      "text/plain": [
       "{'id': '13873691257',\n",
       " 'type': 'PushEvent',\n",
       " 'actor': {'id': 28703282,\n",
       "  'login': 'callumrollo',\n",
       "  'display_login': 'callumrollo',\n",
       "  'gravatar_id': '',\n",
       "  'url': 'https://api.github.com/users/callumrollo',\n",
       "  'avatar_url': 'https://avatars.githubusercontent.com/u/28703282?'},\n",
       " 'repo': {'id': 48320187,\n",
       "  'name': 'ueapy/ueapy.github.io',\n",
       "  'url': 'https://api.github.com/repos/ueapy/ueapy.github.io'},\n",
       " 'payload': {'push_id': 5868625550,\n",
       "  'size': 1,\n",
       "  'distinct_size': 1,\n",
       "  'ref': 'refs/heads/master',\n",
       "  'head': '0b70258f3668dbd25fe8e9681b9324af62e3066f',\n",
       "  'before': 'f9c3596cef28b24cfd4d7c27ba91a1c038c943b6',\n",
       "  'commits': [{'sha': '0b70258f3668dbd25fe8e9681b9324af62e3066f',\n",
       "    'author': {'email': 'c.rollo@outlook.com', 'name': 'Callum Rollo'},\n",
       "    'message': 'Generate Pelican site',\n",
       "    'distinct': True,\n",
       "    'url': 'https://api.github.com/repos/ueapy/ueapy.github.io/commits/0b70258f3668dbd25fe8e9681b9324af62e3066f'}]},\n",
       " 'public': True,\n",
       " 'created_at': '2020-10-16T17:42:00Z',\n",
       " 'org': {'id': 15898025,\n",
       "  'login': 'ueapy',\n",
       "  'gravatar_id': '',\n",
       "  'url': 'https://api.github.com/orgs/ueapy',\n",
       "  'avatar_url': 'https://avatars.githubusercontent.com/u/15898025?'}}"
      ]
     },
     "execution_count": 12,
     "metadata": {},
     "output_type": "execute_result"
    }
   ],
   "source": [
    "data = requests.get('https://api.github.com/users/' + 'callumrollo' +'/events',auth = (username,token)).json()\n",
    "data[0]"
   ]
  },
  {
   "cell_type": "markdown",
   "metadata": {},
   "source": [
    "Note that the Github API lists only the 30 most recent events"
   ]
  },
  {
   "cell_type": "code",
   "execution_count": 13,
   "metadata": {},
   "outputs": [
    {
     "data": {
      "text/plain": [
       "30"
      ]
     },
     "execution_count": 13,
     "metadata": {},
     "output_type": "execute_result"
    }
   ],
   "source": [
    "len(data)"
   ]
  },
  {
   "cell_type": "markdown",
   "metadata": {},
   "source": [
    "To get at more events, we use a short loop to access subsequent pages of results. I found out the hard way that the API restricts you to 10 pages."
   ]
  },
  {
   "cell_type": "code",
   "execution_count": 16,
   "metadata": {},
   "outputs": [
    {
     "name": "stdout",
     "output_type": "stream",
     "text": [
      "Page: 1 total events fetched: 30\n",
      "Page: 2 total events fetched: 60\n",
      "Page: 3 total events fetched: 90\n",
      "Page: 4 total events fetched: 120\n",
      "Page: 5 total events fetched: 150\n",
      "Page: 6 total events fetched: 180\n",
      "Page: 7 total events fetched: 210\n",
      "Page: 8 total events fetched: 240\n",
      "Page: 9 total events fetched: 270\n",
      "Page: 10 total events fetched: 299\n",
      "\n",
      "callumrollo: all your events are belong to us now\n",
      "\n",
      "events span the range \n",
      "2020-07-22T15:01:25Z\n",
      "2020-10-16T17:42:00Z\n"
     ]
    }
   ],
   "source": [
    "tgt_user = 'callumrollo'\n",
    "base_url = 'https://api.github.com/users/' + tgt_user +'/events'\n",
    "url = base_url\n",
    "url_list = [base_url]\n",
    "data = []\n",
    "page_no = 1\n",
    "repos_data = []\n",
    "total_fetched = 0\n",
    "while (True):\n",
    "    response = requests.get(url,auth = (username,token)).json()\n",
    "    data = data + response\n",
    "    events_fetched = len(response)\n",
    "    total_fetched = events_fetched + total_fetched\n",
    "    print(f\"Page: {page_no} total events fetched: {total_fetched}\")\n",
    "    \n",
    "    if total_fetched == 300:\n",
    "        print(f\"\\nAPI maxed out! https://docs.github.com/v3/#pagination\\n\\\n",
    "        returning only most recent 300 events by {tgt_user}\")\n",
    "        print(f\"\\nevents span the range \\n{data[-1]['created_at']}\\n{data[0]['created_at']}\")\n",
    "        break\n",
    "    \n",
    "    if (events_fetched == 30):\n",
    "        page_no = page_no + 1\n",
    "        url = base_url + '?page=' + str(page_no)\n",
    "        url_list.append(url)\n",
    "    else:\n",
    "        print(f\"\\n{tgt_user}: all your events are belong to us now\")\n",
    "        print(f\"\\nevents span the range \\n{data[-1]['created_at']}\\n{data[0]['created_at']}\")\n",
    "        break"
   ]
  },
  {
   "cell_type": "markdown",
   "metadata": {},
   "source": [
    "This system logs all events: commits, issues, PRs, forks, stars etc. We are only interested in commits.\n",
    "\n",
    "These are referred to as `PushEvent` in the json entry `type`"
   ]
  },
  {
   "cell_type": "code",
   "execution_count": 17,
   "metadata": {},
   "outputs": [
    {
     "name": "stdout",
     "output_type": "stream",
     "text": [
      "CreateEvent\n",
      "CreateEvent\n",
      "WatchEvent\n",
      "WatchEvent\n",
      "WatchEvent\n",
      "CreateEvent\n",
      "PushEvent\n",
      "PushEvent\n",
      "PushEvent\n",
      "PushEvent\n"
     ]
    }
   ],
   "source": [
    "for event in data[-10:]:\n",
    "    print(event[\"type\"])\n"
   ]
  },
  {
   "cell_type": "code",
   "execution_count": 18,
   "metadata": {},
   "outputs": [
    {
     "data": {
      "text/plain": [
       "186"
      ]
     },
     "execution_count": 18,
     "metadata": {},
     "output_type": "execute_result"
    }
   ],
   "source": [
    "commit_events = []\n",
    "for event in data:\n",
    "    if event[\"type\"] == \"PushEvent\":\n",
    "        commit_events.append(event)\n",
    "len(commit_events)"
   ]
  },
  {
   "cell_type": "markdown",
   "metadata": {},
   "source": [
    "There are some complications. Not all of these commits in these events are by the Github user we are querying. For instance, some are commits by other users that our target user has merged in.\n",
    "\n",
    "To work around this, we look through the payoad of each `PushEvent` and retain only the commits associated with the user we are interested in.\n",
    "\n",
    "**n.b** this approach wil only work if the github username is the exact match for the name the author uses for their git commits. We apply a workaround for when this is not the case later"
   ]
  },
  {
   "cell_type": "code",
   "execution_count": 19,
   "metadata": {},
   "outputs": [
    {
     "data": {
      "text/plain": [
       "'Callum Rollo'"
      ]
     },
     "execution_count": 19,
     "metadata": {},
     "output_type": "execute_result"
    }
   ],
   "source": [
    "tgt_username = requests.get('https://api.github.com/users/' + credentials['username'],\n",
    "                            auth = (username,token)).json()[\"name\"]\n",
    "tgt_username"
   ]
  },
  {
   "cell_type": "code",
   "execution_count": 20,
   "metadata": {},
   "outputs": [],
   "source": [
    "user_commits = []\n",
    "for event in commit_events:\n",
    "    commit_list = event[\"payload\"][\"commits\"]\n",
    "    commit_list_author = []\n",
    "    if len(commit_list)>0:\n",
    "        for com_n in range(len(commit_list)):\n",
    "            commit_username = commit_list[com_n][\"author\"][\"name\"]\n",
    "            #print(commit_username)\n",
    "            if commit_username == tgt_username:\n",
    "                commit_list_author.append(commit_list[com_n])\n",
    "        if commit_list_author:\n",
    "            event[\"payload\"][\"commits\"] = commit_list_author\n",
    "            user_commits.append(event)"
   ]
  },
  {
   "cell_type": "code",
   "execution_count": 21,
   "metadata": {},
   "outputs": [
    {
     "data": {
      "text/plain": [
       "182"
      ]
     },
     "execution_count": 21,
     "metadata": {},
     "output_type": "execute_result"
    }
   ],
   "source": [
    "len(user_commits)"
   ]
  },
  {
   "cell_type": "markdown",
   "metadata": {},
   "source": [
    "We can print out the name associated with the commits we have selected to confirm"
   ]
  },
  {
   "cell_type": "code",
   "execution_count": 22,
   "metadata": {},
   "outputs": [
    {
     "name": "stdout",
     "output_type": "stream",
     "text": [
      "git usernames and number of commits:\n"
     ]
    },
    {
     "data": {
      "text/plain": [
       "[('Callum Rollo', 232)]"
      ]
     },
     "execution_count": 22,
     "metadata": {},
     "output_type": "execute_result"
    }
   ],
   "source": [
    "commit_names = []\n",
    "for event in user_commits:\n",
    "    commit_list = event[\"payload\"][\"commits\"]\n",
    "    for com_n in range(len(commit_list)):\n",
    "            commit_username = commit_list[com_n][\"author\"][\"name\"]\n",
    "            commit_names.append(commit_username)\n",
    "print(\"git usernames and number of commits:\")\n",
    "Counter(commit_names).most_common()"
   ]
  },
  {
   "cell_type": "code",
   "execution_count": 23,
   "metadata": {},
   "outputs": [
    {
     "name": "stdout",
     "output_type": "stream",
     "text": [
      "From 299 events we have extracted 232 commits by Callum Rollo\n"
     ]
    }
   ],
   "source": [
    "print(f\"From {len(data)} events we have extracted {len(commit_names)} commits by {tgt_username}\")"
   ]
  },
  {
   "cell_type": "markdown",
   "metadata": {},
   "source": [
    "The final step of this (almost certainly imperfect) data cleaning is to get info on all the commits by this user. We will pull the author, message, SHA, url, repo and date into a pandas dataframe. "
   ]
  },
  {
   "cell_type": "code",
   "execution_count": 30,
   "metadata": {},
   "outputs": [],
   "source": [
    "df = pd.DataFrame()\n",
    "for event in user_commits:\n",
    "    for commit in event[\"payload\"][\"commits\"]:\n",
    "        commit_subset = {\"id\": event[\"id\"],\n",
    "                     \"datetime\" : event[\"created_at\"],\n",
    "                     \"sha\" : commit[\"sha\"],\n",
    "                     \"message\" : commit[\"message\"],\n",
    "                     \"author\" : commit[\"author\"][\"name\"],\n",
    "                     \"url\": commit[\"url\"],\n",
    "                     \"repo\": event[\"repo\"][\"name\"]}\n",
    "        df = df.append(commit_subset, ignore_index=True)"
   ]
  },
  {
   "cell_type": "markdown",
   "metadata": {},
   "source": [
    "We index by datetime and have a look at our dataframe"
   ]
  },
  {
   "cell_type": "code",
   "execution_count": 31,
   "metadata": {},
   "outputs": [
    {
     "data": {
      "text/html": [
       "<div>\n",
       "<style scoped>\n",
       "    .dataframe tbody tr th:only-of-type {\n",
       "        vertical-align: middle;\n",
       "    }\n",
       "\n",
       "    .dataframe tbody tr th {\n",
       "        vertical-align: top;\n",
       "    }\n",
       "\n",
       "    .dataframe thead th {\n",
       "        text-align: right;\n",
       "    }\n",
       "</style>\n",
       "<table border=\"1\" class=\"dataframe\">\n",
       "  <thead>\n",
       "    <tr style=\"text-align: right;\">\n",
       "      <th></th>\n",
       "      <th>author</th>\n",
       "      <th>id</th>\n",
       "      <th>message</th>\n",
       "      <th>repo</th>\n",
       "      <th>sha</th>\n",
       "      <th>url</th>\n",
       "    </tr>\n",
       "    <tr>\n",
       "      <th>datetime</th>\n",
       "      <th></th>\n",
       "      <th></th>\n",
       "      <th></th>\n",
       "      <th></th>\n",
       "      <th></th>\n",
       "      <th></th>\n",
       "    </tr>\n",
       "  </thead>\n",
       "  <tbody>\n",
       "    <tr>\n",
       "      <th>2020-10-16 17:42:00+00:00</th>\n",
       "      <td>Callum Rollo</td>\n",
       "      <td>13873691257</td>\n",
       "      <td>Generate Pelican site</td>\n",
       "      <td>ueapy/ueapy.github.io</td>\n",
       "      <td>0b70258f3668dbd25fe8e9681b9324af62e3066f</td>\n",
       "      <td>https://api.github.com/repos/ueapy/ueapy.githu...</td>\n",
       "    </tr>\n",
       "    <tr>\n",
       "      <th>2020-10-16 17:41:23+00:00</th>\n",
       "      <td>Callum Rollo</td>\n",
       "      <td>13873684842</td>\n",
       "      <td>Added notebook on webscraping</td>\n",
       "      <td>ueapy/ueapy.github.io</td>\n",
       "      <td>3364fd1e786612c16b4e999cbb832e9584818804</td>\n",
       "      <td>https://api.github.com/repos/ueapy/ueapy.githu...</td>\n",
       "    </tr>\n",
       "    <tr>\n",
       "      <th>2020-10-16 16:47:44+00:00</th>\n",
       "      <td>Callum Rollo</td>\n",
       "      <td>13873114207</td>\n",
       "      <td>added beam miss figure and subplot labelling</td>\n",
       "      <td>callumrollo/adcp-glider</td>\n",
       "      <td>ad7aeeac2527b92cb5a98aa8cfc134bf355571e6</td>\n",
       "      <td>https://api.github.com/repos/callumrollo/adcp-...</td>\n",
       "    </tr>\n",
       "    <tr>\n",
       "      <th>2020-10-16 16:43:06+00:00</th>\n",
       "      <td>Callum Rollo</td>\n",
       "      <td>13873061051</td>\n",
       "      <td>Generate Pelican site</td>\n",
       "      <td>callumrollo/callumrollo.github.io</td>\n",
       "      <td>f5e76561f2e5886db6a413e079209d039f0bac74</td>\n",
       "      <td>https://api.github.com/repos/callumrollo/callu...</td>\n",
       "    </tr>\n",
       "    <tr>\n",
       "      <th>2020-10-16 16:42:30+00:00</th>\n",
       "      <td>Callum Rollo</td>\n",
       "      <td>13873054646</td>\n",
       "      <td>added MATS poster</td>\n",
       "      <td>callumrollo/callumrollo.github.io</td>\n",
       "      <td>30a6802786ba5b479e9cf09594e51e3e5ebcef94</td>\n",
       "      <td>https://api.github.com/repos/callumrollo/callu...</td>\n",
       "    </tr>\n",
       "  </tbody>\n",
       "</table>\n",
       "</div>"
      ],
      "text/plain": [
       "                                 author           id  \\\n",
       "datetime                                               \n",
       "2020-10-16 17:42:00+00:00  Callum Rollo  13873691257   \n",
       "2020-10-16 17:41:23+00:00  Callum Rollo  13873684842   \n",
       "2020-10-16 16:47:44+00:00  Callum Rollo  13873114207   \n",
       "2020-10-16 16:43:06+00:00  Callum Rollo  13873061051   \n",
       "2020-10-16 16:42:30+00:00  Callum Rollo  13873054646   \n",
       "\n",
       "                                                                message  \\\n",
       "datetime                                                                  \n",
       "2020-10-16 17:42:00+00:00                         Generate Pelican site   \n",
       "2020-10-16 17:41:23+00:00                 Added notebook on webscraping   \n",
       "2020-10-16 16:47:44+00:00  added beam miss figure and subplot labelling   \n",
       "2020-10-16 16:43:06+00:00                         Generate Pelican site   \n",
       "2020-10-16 16:42:30+00:00                             added MATS poster   \n",
       "\n",
       "                                                        repo  \\\n",
       "datetime                                                       \n",
       "2020-10-16 17:42:00+00:00              ueapy/ueapy.github.io   \n",
       "2020-10-16 17:41:23+00:00              ueapy/ueapy.github.io   \n",
       "2020-10-16 16:47:44+00:00            callumrollo/adcp-glider   \n",
       "2020-10-16 16:43:06+00:00  callumrollo/callumrollo.github.io   \n",
       "2020-10-16 16:42:30+00:00  callumrollo/callumrollo.github.io   \n",
       "\n",
       "                                                                sha  \\\n",
       "datetime                                                              \n",
       "2020-10-16 17:42:00+00:00  0b70258f3668dbd25fe8e9681b9324af62e3066f   \n",
       "2020-10-16 17:41:23+00:00  3364fd1e786612c16b4e999cbb832e9584818804   \n",
       "2020-10-16 16:47:44+00:00  ad7aeeac2527b92cb5a98aa8cfc134bf355571e6   \n",
       "2020-10-16 16:43:06+00:00  f5e76561f2e5886db6a413e079209d039f0bac74   \n",
       "2020-10-16 16:42:30+00:00  30a6802786ba5b479e9cf09594e51e3e5ebcef94   \n",
       "\n",
       "                                                                         url  \n",
       "datetime                                                                      \n",
       "2020-10-16 17:42:00+00:00  https://api.github.com/repos/ueapy/ueapy.githu...  \n",
       "2020-10-16 17:41:23+00:00  https://api.github.com/repos/ueapy/ueapy.githu...  \n",
       "2020-10-16 16:47:44+00:00  https://api.github.com/repos/callumrollo/adcp-...  \n",
       "2020-10-16 16:43:06+00:00  https://api.github.com/repos/callumrollo/callu...  \n",
       "2020-10-16 16:42:30+00:00  https://api.github.com/repos/callumrollo/callu...  "
      ]
     },
     "execution_count": 31,
     "metadata": {},
     "output_type": "execute_result"
    }
   ],
   "source": [
    "df.index = pd.DatetimeIndex(df.datetime)\n",
    "df = df.drop(\"datetime\", axis=1)\n",
    "df.head()"
   ]
  },
  {
   "cell_type": "markdown",
   "metadata": {},
   "source": [
    "We can see an uncharacteristically helpful set of commit messages, and the meta event of a commit I made to this very notebook"
   ]
  },
  {
   "cell_type": "markdown",
   "metadata": {},
   "source": [
    "Now we remove any repeated commits that may have snuck in by a deduplicating on the SHA checksum\n",
    "\n",
    "**side note** the SHA chescksum uniquely identifies each commit. Even if you had commits by the same author to the same repo with the same message (\"added stuff\" or something similarly helpful) the SHA will differentiate the two. See more [here](https://www.lifewire.com/what-is-sha-1-2626011)"
   ]
  },
  {
   "cell_type": "code",
   "execution_count": 32,
   "metadata": {},
   "outputs": [
    {
     "data": {
      "text/html": [
       "<div>\n",
       "<style scoped>\n",
       "    .dataframe tbody tr th:only-of-type {\n",
       "        vertical-align: middle;\n",
       "    }\n",
       "\n",
       "    .dataframe tbody tr th {\n",
       "        vertical-align: top;\n",
       "    }\n",
       "\n",
       "    .dataframe thead th {\n",
       "        text-align: right;\n",
       "    }\n",
       "</style>\n",
       "<table border=\"1\" class=\"dataframe\">\n",
       "  <thead>\n",
       "    <tr style=\"text-align: right;\">\n",
       "      <th></th>\n",
       "      <th>author</th>\n",
       "      <th>id</th>\n",
       "      <th>message</th>\n",
       "      <th>repo</th>\n",
       "      <th>sha</th>\n",
       "      <th>url</th>\n",
       "    </tr>\n",
       "    <tr>\n",
       "      <th>datetime</th>\n",
       "      <th></th>\n",
       "      <th></th>\n",
       "      <th></th>\n",
       "      <th></th>\n",
       "      <th></th>\n",
       "      <th></th>\n",
       "    </tr>\n",
       "  </thead>\n",
       "  <tbody>\n",
       "    <tr>\n",
       "      <th>2020-10-16 17:42:00+00:00</th>\n",
       "      <td>Callum Rollo</td>\n",
       "      <td>13873691257</td>\n",
       "      <td>Generate Pelican site</td>\n",
       "      <td>ueapy/ueapy.github.io</td>\n",
       "      <td>0b70258f3668dbd25fe8e9681b9324af62e3066f</td>\n",
       "      <td>https://api.github.com/repos/ueapy/ueapy.githu...</td>\n",
       "    </tr>\n",
       "    <tr>\n",
       "      <th>2020-10-16 17:41:23+00:00</th>\n",
       "      <td>Callum Rollo</td>\n",
       "      <td>13873684842</td>\n",
       "      <td>Added notebook on webscraping</td>\n",
       "      <td>ueapy/ueapy.github.io</td>\n",
       "      <td>3364fd1e786612c16b4e999cbb832e9584818804</td>\n",
       "      <td>https://api.github.com/repos/ueapy/ueapy.githu...</td>\n",
       "    </tr>\n",
       "    <tr>\n",
       "      <th>2020-10-16 16:47:44+00:00</th>\n",
       "      <td>Callum Rollo</td>\n",
       "      <td>13873114207</td>\n",
       "      <td>added beam miss figure and subplot labelling</td>\n",
       "      <td>callumrollo/adcp-glider</td>\n",
       "      <td>ad7aeeac2527b92cb5a98aa8cfc134bf355571e6</td>\n",
       "      <td>https://api.github.com/repos/callumrollo/adcp-...</td>\n",
       "    </tr>\n",
       "    <tr>\n",
       "      <th>2020-10-16 16:43:06+00:00</th>\n",
       "      <td>Callum Rollo</td>\n",
       "      <td>13873061051</td>\n",
       "      <td>Generate Pelican site</td>\n",
       "      <td>callumrollo/callumrollo.github.io</td>\n",
       "      <td>f5e76561f2e5886db6a413e079209d039f0bac74</td>\n",
       "      <td>https://api.github.com/repos/callumrollo/callu...</td>\n",
       "    </tr>\n",
       "    <tr>\n",
       "      <th>2020-10-16 16:42:30+00:00</th>\n",
       "      <td>Callum Rollo</td>\n",
       "      <td>13873054646</td>\n",
       "      <td>added MATS poster</td>\n",
       "      <td>callumrollo/callumrollo.github.io</td>\n",
       "      <td>30a6802786ba5b479e9cf09594e51e3e5ebcef94</td>\n",
       "      <td>https://api.github.com/repos/callumrollo/callu...</td>\n",
       "    </tr>\n",
       "  </tbody>\n",
       "</table>\n",
       "</div>"
      ],
      "text/plain": [
       "                                 author           id  \\\n",
       "datetime                                               \n",
       "2020-10-16 17:42:00+00:00  Callum Rollo  13873691257   \n",
       "2020-10-16 17:41:23+00:00  Callum Rollo  13873684842   \n",
       "2020-10-16 16:47:44+00:00  Callum Rollo  13873114207   \n",
       "2020-10-16 16:43:06+00:00  Callum Rollo  13873061051   \n",
       "2020-10-16 16:42:30+00:00  Callum Rollo  13873054646   \n",
       "\n",
       "                                                                message  \\\n",
       "datetime                                                                  \n",
       "2020-10-16 17:42:00+00:00                         Generate Pelican site   \n",
       "2020-10-16 17:41:23+00:00                 Added notebook on webscraping   \n",
       "2020-10-16 16:47:44+00:00  added beam miss figure and subplot labelling   \n",
       "2020-10-16 16:43:06+00:00                         Generate Pelican site   \n",
       "2020-10-16 16:42:30+00:00                             added MATS poster   \n",
       "\n",
       "                                                        repo  \\\n",
       "datetime                                                       \n",
       "2020-10-16 17:42:00+00:00              ueapy/ueapy.github.io   \n",
       "2020-10-16 17:41:23+00:00              ueapy/ueapy.github.io   \n",
       "2020-10-16 16:47:44+00:00            callumrollo/adcp-glider   \n",
       "2020-10-16 16:43:06+00:00  callumrollo/callumrollo.github.io   \n",
       "2020-10-16 16:42:30+00:00  callumrollo/callumrollo.github.io   \n",
       "\n",
       "                                                                sha  \\\n",
       "datetime                                                              \n",
       "2020-10-16 17:42:00+00:00  0b70258f3668dbd25fe8e9681b9324af62e3066f   \n",
       "2020-10-16 17:41:23+00:00  3364fd1e786612c16b4e999cbb832e9584818804   \n",
       "2020-10-16 16:47:44+00:00  ad7aeeac2527b92cb5a98aa8cfc134bf355571e6   \n",
       "2020-10-16 16:43:06+00:00  f5e76561f2e5886db6a413e079209d039f0bac74   \n",
       "2020-10-16 16:42:30+00:00  30a6802786ba5b479e9cf09594e51e3e5ebcef94   \n",
       "\n",
       "                                                                         url  \n",
       "datetime                                                                      \n",
       "2020-10-16 17:42:00+00:00  https://api.github.com/repos/ueapy/ueapy.githu...  \n",
       "2020-10-16 17:41:23+00:00  https://api.github.com/repos/ueapy/ueapy.githu...  \n",
       "2020-10-16 16:47:44+00:00  https://api.github.com/repos/callumrollo/adcp-...  \n",
       "2020-10-16 16:43:06+00:00  https://api.github.com/repos/callumrollo/callu...  \n",
       "2020-10-16 16:42:30+00:00  https://api.github.com/repos/callumrollo/callu...  "
      ]
     },
     "execution_count": 32,
     "metadata": {},
     "output_type": "execute_result"
    }
   ],
   "source": [
    "df = df.drop_duplicates(subset=['sha'])\n",
    "df.head()"
   ]
  },
  {
   "cell_type": "markdown",
   "metadata": {},
   "source": [
    "------------------------\n",
    "### Scaling it up: work from a list of Github usernames\n",
    "\n",
    "Now that we have a method for finding commits by a user, the next step is to loop through a list of users. As a test case, I have analysed the commits from [Oceanhackweek2020](https://oceanhackweek.github.io/)"
   ]
  },
  {
   "cell_type": "code",
   "execution_count": 33,
   "metadata": {},
   "outputs": [],
   "source": [
    "def gh_scrape(tgt_users, cred_file = 'credentials.json', verbose=True):\n",
    "    \"\"\"Simple scraping function\n",
    "    Supply a list of github usersnames ['jane-doe', 'torvalds', 'satoshi_nakamoto']\n",
    "    Returns a dataframe of unique commits by these users over the last 90 days\n",
    "    Assumes that the github user is the user with most git commits associated with their github profile\n",
    "    Rate limited by the Github API to 300 events\n",
    "    Requires you to supply a Github API token in a credentials.json file\n",
    "    Verbose switch prints a line for each user with the number of events and commits found\n",
    "    Returns a pandas dataframe of commit info for all usernames in supplied list\n",
    "    \"\"\"\n",
    "    # Get user supplied credentials for the github API\n",
    "    credentials = json.loads(open(cred_file).read())\n",
    "    username = credentials['username']\n",
    "    token = credentials['token']\n",
    "    df = pd.DataFrame()\n",
    "    \n",
    "    for tgt_user in tgt_users:\n",
    "        base_url = 'https://api.github.com/users/' + tgt_user +'/events'\n",
    "        url = base_url\n",
    "        url_list = [base_url]\n",
    "        data = []\n",
    "        page_no = 1\n",
    "        repos_data = []\n",
    "        total_fetched = 0\n",
    "        while (True):\n",
    "            response = requests.get(url,auth = (username,token)).json()\n",
    "            if type(response)==dict:\n",
    "                # Catch when the API returns a dict rather than expected list. Usually a credentials error message\n",
    "                print(response)\n",
    "                return\n",
    "            data = data + response\n",
    "            events_fetched = len(response)\n",
    "            total_fetched = events_fetched + total_fetched\n",
    "            if total_fetched == 300:\n",
    "                # Requesting more will max out the API\n",
    "                break\n",
    "            if (events_fetched == 30):\n",
    "                # if we fethced 30 events from this page, there will be another one after it\n",
    "                page_no = page_no + 1\n",
    "                url = base_url + '?page=' + str(page_no)\n",
    "                url_list.append(url)\n",
    "            else:\n",
    "                # We have collected all events by this user\n",
    "                break\n",
    "        commits_events = []\n",
    "        for event in data:\n",
    "            # We're only interested in commits, which are classed as \"PushEvents\"\n",
    "            if event[\"type\"] == \"PushEvent\":\n",
    "                commits_events.append(event)\n",
    "        if len(commits_events)==0:\n",
    "            # If the user has no commit events, stop processing\n",
    "            continue\n",
    "            \n",
    "        commit_usernames_list = []\n",
    "        for event in commits_events:\n",
    "            # Search though the payload for which git user is associated with each commit\n",
    "            commit_list = event[\"payload\"][\"commits\"]\n",
    "            if len(commit_list)>0:    \n",
    "                for com_n in range(len(commit_list)):\n",
    "                        commit_username = commit_list[com_n][\"author\"][\"name\"]       \n",
    "                        commit_usernames_list.append(commit_username)\n",
    "        # Working on the assumption that the git user with the most commits pushed to Github by this user is the one we want\n",
    "        c = Counter(commit_usernames_list)\n",
    "        most_common_username = c.most_common(1)[0][0]\n",
    "        user_commits = []\n",
    "        \n",
    "        # Go back through the commits and pull only the ones by the most common git username\n",
    "        for event in commits_events:\n",
    "            commit_list = event[\"payload\"][\"commits\"]\n",
    "            commit_list_author = []\n",
    "            if len(commit_list)>0:    \n",
    "                for com_n in range(len(commit_list)):\n",
    "                    commit_username = commit_list[com_n][\"author\"][\"name\"]\n",
    "                    if commit_username == most_common_username:\n",
    "                        commit_list_author.append(commit_list[com_n])\n",
    "                if commit_list_author:\n",
    "                    event[\"payload\"][\"commits\"] = commit_list_author\n",
    "                    user_commits.append(event)\n",
    "        \n",
    "        # Extract the information we're interested in and put it in a pandas DataFrame\n",
    "        for commit in user_commits:\n",
    "            for com_n in range(len(commit[\"payload\"][\"commits\"])):\n",
    "                commit_detail = commit[\"payload\"][\"commits\"][com_n]\n",
    "                commit_subset = {\"id\": commit[\"id\"],\n",
    "                             \"datetime\" : commit[\"created_at\"],\n",
    "                             \"sha\" : commit_detail[\"sha\"],\n",
    "                             \"message\" : commit_detail[\"message\"],\n",
    "                             \"author\" : commit_detail[\"author\"][\"name\"],\n",
    "                             \"url\": commit_detail[\"url\"],\n",
    "                             \"repo\": commit[\"repo\"][\"name\"]}\n",
    "                df = df.append(commit_subset, ignore_index=True)\n",
    "        df.index = pd.DatetimeIndex(df.datetime)\n",
    "        df = df.drop_duplicates(subset=['sha'])\n",
    "        if verbose:\n",
    "            print(f\"{tgt_user}: found {len(data)} events containing {len(user_commits)} unique commits by {most_common_username}\\n\")\n",
    "    return df\n"
   ]
  },
  {
   "cell_type": "code",
   "execution_count": 34,
   "metadata": {},
   "outputs": [
    {
     "name": "stdout",
     "output_type": "stream",
     "text": [
      "callumrollo: found 299 events containing 182 unique commits by Callum Rollo\n",
      "\n"
     ]
    },
    {
     "data": {
      "text/plain": [
       "210"
      ]
     },
     "execution_count": 34,
     "metadata": {},
     "output_type": "execute_result"
    }
   ],
   "source": [
    "users = [\"callumrollo\"]\n",
    "df = gh_scrape(users, cred_file = 'credentials-secret.json')\n",
    "len(df)"
   ]
  },
  {
   "cell_type": "markdown",
   "metadata": {},
   "source": [
    "Quite a few commits. What if we want solely the hackweek ones?"
   ]
  },
  {
   "cell_type": "code",
   "execution_count": 35,
   "metadata": {},
   "outputs": [
    {
     "data": {
      "text/plain": [
       "23"
      ]
     },
     "execution_count": 35,
     "metadata": {},
     "output_type": "execute_result"
    }
   ],
   "source": [
    "df['ohw20_repo'] = df['repo'].str.contains(\"ohw20\")\n",
    "sum(df['ohw20_repo'] )"
   ]
  },
  {
   "cell_type": "markdown",
   "metadata": {},
   "source": [
    "### OHW analysis\n",
    "\n",
    "Using the above function and a list of hackweek participants (not included) I grab github commits from the last 90 days"
   ]
  },
  {
   "cell_type": "code",
   "execution_count": 36,
   "metadata": {},
   "outputs": [],
   "source": [
    "import csv\n",
    "from itertools import chain\n",
    "with open('ohw_participants.csv', newline='') as f:\n",
    "    nest_list = list(csv.reader(f))\n",
    "ohw_participants_list = list(chain.from_iterable(nest_list))\n",
    "df_all = gh_scrape(ohw_participants_list, cred_file='credentials-secret.json', verbose=False)"
   ]
  },
  {
   "cell_type": "code",
   "execution_count": 37,
   "metadata": {},
   "outputs": [
    {
     "data": {
      "text/plain": [
       "1356"
      ]
     },
     "execution_count": 37,
     "metadata": {},
     "output_type": "execute_result"
    }
   ],
   "source": [
    "len(df_all)"
   ]
  },
  {
   "cell_type": "markdown",
   "metadata": {},
   "source": [
    "As you saw when I grabbed the data just from my username, it contains a lot of identifying information. I have anonymised and saved this data for a later notebook of analysis"
   ]
  },
  {
   "cell_type": "markdown",
   "metadata": {},
   "source": [
    "-----------------------------\n",
    "\n",
    "# Going deeper\n",
    "\n",
    "We can get all the details of a commit by delving deeper into the json structure accessed through the commit url.\n",
    "\n",
    "**example:**"
   ]
  },
  {
   "cell_type": "code",
   "execution_count": 40,
   "metadata": {},
   "outputs": [
    {
     "data": {
      "text/plain": [
       "dict_keys(['sha', 'node_id', 'commit', 'url', 'html_url', 'comments_url', 'author', 'committer', 'parents', 'stats', 'files'])"
      ]
     },
     "execution_count": 40,
     "metadata": {},
     "output_type": "execute_result"
    }
   ],
   "source": [
    "url = event['payload']['commits'][0]['url']\n",
    "commit_detail = requests.get(url,auth = (username,token)).json()\n",
    "commit_detail.keys()"
   ]
  },
  {
   "cell_type": "markdown",
   "metadata": {},
   "source": [
    "The most interesting section is `files`. This gives a summary of the lines changed on each file altered in this commit"
   ]
  },
  {
   "cell_type": "code",
   "execution_count": 52,
   "metadata": {},
   "outputs": [
    {
     "data": {
      "text/plain": [
       "True"
      ]
     },
     "execution_count": 52,
     "metadata": {},
     "output_type": "execute_result"
    }
   ],
   "source": [
    "'files' in commit_detail.keys()"
   ]
  },
  {
   "cell_type": "code",
   "execution_count": 50,
   "metadata": {},
   "outputs": [
    {
     "data": {
      "text/plain": [
       "[{'sha': 'c90c6b45472c3d1a962024805ce9bacac967066c',\n",
       "  'filename': 'dev-environment.yml',\n",
       "  'status': 'added',\n",
       "  'additions': 13,\n",
       "  'deletions': 0,\n",
       "  'changes': 13,\n",
       "  'blob_url': 'https://github.com/callumrollo/geotiff-generator/blob/1b7056d0bd435af6ca6eec9414dd4dc3cd39d587/dev-environment.yml',\n",
       "  'raw_url': 'https://github.com/callumrollo/geotiff-generator/raw/1b7056d0bd435af6ca6eec9414dd4dc3cd39d587/dev-environment.yml',\n",
       "  'contents_url': 'https://api.github.com/repos/callumrollo/geotiff-generator/contents/dev-environment.yml?ref=1b7056d0bd435af6ca6eec9414dd4dc3cd39d587',\n",
       "  'patch': '@@ -0,0 +1,13 @@\\n+name: geotiff-test\\n+channels:\\n+   - conda-forge\\n+dependencies:\\n+   - python=3.7\\n+   - numpy\\n+   - pandas\\n+   - xarray\\n+   - netcdf4\\n+   - gdal\\n+   - jupyter\\n+   - ipython\\n+   - pytest'},\n",
       " {'sha': '8ddd4f0dc27b9251adaa755485f754ded4ddc3f3',\n",
       "  'filename': 'geotiff_gen.py',\n",
       "  'status': 'modified',\n",
       "  'additions': 0,\n",
       "  'deletions': 1,\n",
       "  'changes': 1,\n",
       "  'blob_url': 'https://github.com/callumrollo/geotiff-generator/blob/1b7056d0bd435af6ca6eec9414dd4dc3cd39d587/geotiff_gen.py',\n",
       "  'raw_url': 'https://github.com/callumrollo/geotiff-generator/raw/1b7056d0bd435af6ca6eec9414dd4dc3cd39d587/geotiff_gen.py',\n",
       "  'contents_url': 'https://api.github.com/repos/callumrollo/geotiff-generator/contents/geotiff_gen.py?ref=1b7056d0bd435af6ca6eec9414dd4dc3cd39d587',\n",
       "  'patch': '@@ -13,7 +13,6 @@\\n import xarray as xr\\n from netCDF4 import Dataset\\n import copy\\n-import glob\\n from pathlib import Path\\n from osgeo import gdal, osr\\n '},\n",
       " {'sha': '1d901078bfb7d640216b52bc1c76b44bf86718a0',\n",
       "  'filename': 'test_geotiff.py',\n",
       "  'status': 'added',\n",
       "  'additions': 1,\n",
       "  'deletions': 0,\n",
       "  'changes': 1,\n",
       "  'blob_url': 'https://github.com/callumrollo/geotiff-generator/blob/1b7056d0bd435af6ca6eec9414dd4dc3cd39d587/test_geotiff.py',\n",
       "  'raw_url': 'https://github.com/callumrollo/geotiff-generator/raw/1b7056d0bd435af6ca6eec9414dd4dc3cd39d587/test_geotiff.py',\n",
       "  'contents_url': 'https://api.github.com/repos/callumrollo/geotiff-generator/contents/test_geotiff.py?ref=1b7056d0bd435af6ca6eec9414dd4dc3cd39d587',\n",
       "  'patch': '@@ -0,0 +1 @@\\n+from geotiff_gen import\\n\\\\ No newline at end of file'}]"
      ]
     },
     "execution_count": 50,
     "metadata": {},
     "output_type": "execute_result"
    }
   ],
   "source": [
    "commit_detail['files']"
   ]
  },
  {
   "cell_type": "markdown",
   "metadata": {},
   "source": [
    "### Let's go through our little database and extract the file extenstions of all the files altered in each commit\n",
    "\n",
    "This was originally [Filipe](https://github.com/ocefpaf)'s idea\n",
    "\n",
    "This requires a small extention to our scraping function. Because we want details at a commit level, this will make an additional API call for every single commit, so adds quite a time penalty. A good target for optimistion with async methods perhaps? *This is left as an excercise for the reader*"
   ]
  },
  {
   "cell_type": "code",
   "execution_count": 53,
   "metadata": {},
   "outputs": [],
   "source": [
    "def gh_scrape(tgt_users, cred_file = 'credentials.json', verbose=True):\n",
    "    \"\"\"Simple scraping function\n",
    "    Supply a list of github usersnames ['jane-doe', 'torvalds', 'satoshi_nakamoto']\n",
    "    Returns a dataframe of unique commits by these users over the last 90 days\n",
    "    Assumes that the github user is the user with most git commits associated with their github profile\n",
    "    Rate limited by the Github API to 300 events\n",
    "    Requires you to supply a Github API token in a credentials.json file\n",
    "    Verbose switch prints a line for each user with the number of events and commits found\n",
    "    Returns a pandas dataframe of commit info for all usernames in supplied list\n",
    "    \"\"\"\n",
    "    # Get user supplied credentials for the github API\n",
    "    credentials = json.loads(open(cred_file).read())\n",
    "    username = credentials['username']\n",
    "    token = credentials['token']\n",
    "    df = pd.DataFrame()\n",
    "    \n",
    "    for tgt_user in tgt_users:\n",
    "        print(tgt_user)\n",
    "        base_url = 'https://api.github.com/users/' + tgt_user +'/events'\n",
    "        url = base_url\n",
    "        url_list = [base_url]\n",
    "        data = []\n",
    "        page_no = 1\n",
    "        repos_data = []\n",
    "        total_fetched = 0\n",
    "        while (True):\n",
    "            response = requests.get(url,auth = (username,token)).json()\n",
    "            if type(response)==dict:\n",
    "                # Catch when the API returns a dict rather than expected list. Usually a credentials error message\n",
    "                print(response)\n",
    "                return\n",
    "            data = data + response\n",
    "            events_fetched = len(response)\n",
    "            total_fetched = events_fetched + total_fetched\n",
    "            if total_fetched == 300:\n",
    "                # Requesting more will max out the API\n",
    "                break\n",
    "            if (events_fetched == 30):\n",
    "                # if we fethced 30 events from this page, there will be another one after it\n",
    "                page_no = page_no + 1\n",
    "                url = base_url + '?page=' + str(page_no)\n",
    "                url_list.append(url)\n",
    "            else:\n",
    "                # We have collected all events by this user\n",
    "                break\n",
    "        commits_events = []\n",
    "        for event in data:\n",
    "            # We're only interested in commits, which are classed as \"PushEvents\"\n",
    "            if event[\"type\"] == \"PushEvent\":\n",
    "                commits_events.append(event)\n",
    "        if len(commits_events)==0:\n",
    "            # If the user has no commit events, stop processing\n",
    "            continue\n",
    "            \n",
    "        commit_usernames_list = []\n",
    "        for event in commits_events:\n",
    "            # Search though the payload for which git user is associated with each commit\n",
    "            commit_list = event[\"payload\"][\"commits\"]\n",
    "            if len(commit_list)>0:    \n",
    "                for com_n in range(len(commit_list)):\n",
    "                        commit_username = commit_list[com_n][\"author\"][\"name\"]       \n",
    "                        commit_usernames_list.append(commit_username)\n",
    "        # Working on the assumption that the git user with the most commits pushed to Github by this user is the one we want\n",
    "        c = Counter(commit_usernames_list)\n",
    "        most_common_username = c.most_common(1)[0][0]\n",
    "        user_commits = []\n",
    "        \n",
    "        # Go back through the commits and pull only the ones by the most common git username\n",
    "        for event in commits_events:\n",
    "            commit_list = event[\"payload\"][\"commits\"]\n",
    "            commit_list_author = []\n",
    "            if len(commit_list)>0:    \n",
    "                for com_n in range(len(commit_list)):\n",
    "                    commit_username = commit_list[com_n][\"author\"][\"name\"]\n",
    "                    if commit_username == most_common_username:\n",
    "                        commit_list_author.append(commit_list[com_n])\n",
    "                if commit_list_author:\n",
    "                    event[\"payload\"][\"commits\"] = commit_list_author\n",
    "                    user_commits.append(event)\n",
    "        \n",
    "        # Extract the information we're interested in and put it in a pandas DataFrame\n",
    "        for commit in user_commits:\n",
    "            for com_n in range(len(commit[\"payload\"][\"commits\"])):\n",
    "                commit_detail = commit[\"payload\"][\"commits\"][com_n]\n",
    "                commit_all_details = requests.get(commit_detail[\"url\"],auth = (username,token)).json()\n",
    "                extensions = \"\"\n",
    "                if 'files' not in commit_all_details.keys():\n",
    "                    continue\n",
    "                for file in commit_all_details['files']:\n",
    "                    extensions = extensions + file['filename'].split('.')[-1] + ', '\n",
    "                commit_subset = {\"id\": commit[\"id\"],\n",
    "                             \"datetime\" : commit[\"created_at\"],\n",
    "                             \"sha\" : commit_detail[\"sha\"],\n",
    "                             \"message\" : commit_detail[\"message\"],\n",
    "                             \"author\" : commit_detail[\"author\"][\"name\"],\n",
    "                             \"url\": commit_detail[\"url\"],\n",
    "                             \"repo\": commit[\"repo\"][\"name\"],\n",
    "                             \"extensions\": extensions[:-2]}\n",
    "                df = df.append(commit_subset, ignore_index=True)\n",
    "        df.index = pd.DatetimeIndex(df.datetime)\n",
    "        df = df.drop_duplicates(subset=['sha'])\n",
    "        if verbose:\n",
    "            print(f\"{tgt_user}: found {len(data)} events containing {len(user_commits)} unique commits by {most_common_username}\\n\")\n",
    "    return df"
   ]
  },
  {
   "cell_type": "code",
   "execution_count": 43,
   "metadata": {},
   "outputs": [
    {
     "name": "stdout",
     "output_type": "stream",
     "text": [
      "callumrollo: found 299 events containing 182 unique commits by Callum Rollo\n",
      "\n"
     ]
    },
    {
     "data": {
      "text/html": [
       "<div>\n",
       "<style scoped>\n",
       "    .dataframe tbody tr th:only-of-type {\n",
       "        vertical-align: middle;\n",
       "    }\n",
       "\n",
       "    .dataframe tbody tr th {\n",
       "        vertical-align: top;\n",
       "    }\n",
       "\n",
       "    .dataframe thead th {\n",
       "        text-align: right;\n",
       "    }\n",
       "</style>\n",
       "<table border=\"1\" class=\"dataframe\">\n",
       "  <thead>\n",
       "    <tr style=\"text-align: right;\">\n",
       "      <th></th>\n",
       "      <th>author</th>\n",
       "      <th>datetime</th>\n",
       "      <th>extensions</th>\n",
       "      <th>id</th>\n",
       "      <th>message</th>\n",
       "      <th>repo</th>\n",
       "      <th>sha</th>\n",
       "      <th>url</th>\n",
       "    </tr>\n",
       "    <tr>\n",
       "      <th>datetime</th>\n",
       "      <th></th>\n",
       "      <th></th>\n",
       "      <th></th>\n",
       "      <th></th>\n",
       "      <th></th>\n",
       "      <th></th>\n",
       "      <th></th>\n",
       "      <th></th>\n",
       "    </tr>\n",
       "  </thead>\n",
       "  <tbody>\n",
       "    <tr>\n",
       "      <th>2020-10-16 17:42:00+00:00</th>\n",
       "      <td>Callum Rollo</td>\n",
       "      <td>2020-10-16T17:42:00Z</td>\n",
       "      <td>html, html, html, html, html, html, html, html...</td>\n",
       "      <td>13873691257</td>\n",
       "      <td>Generate Pelican site</td>\n",
       "      <td>ueapy/ueapy.github.io</td>\n",
       "      <td>0b70258f3668dbd25fe8e9681b9324af62e3066f</td>\n",
       "      <td>https://api.github.com/repos/ueapy/ueapy.githu...</td>\n",
       "    </tr>\n",
       "    <tr>\n",
       "      <th>2020-10-16 17:41:23+00:00</th>\n",
       "      <td>Callum Rollo</td>\n",
       "      <td>2020-10-16T17:41:23Z</td>\n",
       "      <td>md, png, ipynb</td>\n",
       "      <td>13873684842</td>\n",
       "      <td>Added notebook on webscraping</td>\n",
       "      <td>ueapy/ueapy.github.io</td>\n",
       "      <td>3364fd1e786612c16b4e999cbb832e9584818804</td>\n",
       "      <td>https://api.github.com/repos/ueapy/ueapy.githu...</td>\n",
       "    </tr>\n",
       "    <tr>\n",
       "      <th>2020-10-16 16:47:44+00:00</th>\n",
       "      <td>Callum Rollo</td>\n",
       "      <td>2020-10-16T16:47:44Z</td>\n",
       "      <td>ipynb, png, png</td>\n",
       "      <td>13873114207</td>\n",
       "      <td>added beam miss figure and subplot labelling</td>\n",
       "      <td>callumrollo/adcp-glider</td>\n",
       "      <td>ad7aeeac2527b92cb5a98aa8cfc134bf355571e6</td>\n",
       "      <td>https://api.github.com/repos/callumrollo/adcp-...</td>\n",
       "    </tr>\n",
       "    <tr>\n",
       "      <th>2020-10-16 16:43:06+00:00</th>\n",
       "      <td>Callum Rollo</td>\n",
       "      <td>2020-10-16T16:43:06Z</td>\n",
       "      <td>pdf, html</td>\n",
       "      <td>13873061051</td>\n",
       "      <td>Generate Pelican site</td>\n",
       "      <td>callumrollo/callumrollo.github.io</td>\n",
       "      <td>f5e76561f2e5886db6a413e079209d039f0bac74</td>\n",
       "      <td>https://api.github.com/repos/callumrollo/callu...</td>\n",
       "    </tr>\n",
       "    <tr>\n",
       "      <th>2020-10-16 16:42:30+00:00</th>\n",
       "      <td>Callum Rollo</td>\n",
       "      <td>2020-10-16T16:42:30Z</td>\n",
       "      <td>pdf, md</td>\n",
       "      <td>13873054646</td>\n",
       "      <td>added MATS poster</td>\n",
       "      <td>callumrollo/callumrollo.github.io</td>\n",
       "      <td>30a6802786ba5b479e9cf09594e51e3e5ebcef94</td>\n",
       "      <td>https://api.github.com/repos/callumrollo/callu...</td>\n",
       "    </tr>\n",
       "  </tbody>\n",
       "</table>\n",
       "</div>"
      ],
      "text/plain": [
       "                                 author              datetime  \\\n",
       "datetime                                                        \n",
       "2020-10-16 17:42:00+00:00  Callum Rollo  2020-10-16T17:42:00Z   \n",
       "2020-10-16 17:41:23+00:00  Callum Rollo  2020-10-16T17:41:23Z   \n",
       "2020-10-16 16:47:44+00:00  Callum Rollo  2020-10-16T16:47:44Z   \n",
       "2020-10-16 16:43:06+00:00  Callum Rollo  2020-10-16T16:43:06Z   \n",
       "2020-10-16 16:42:30+00:00  Callum Rollo  2020-10-16T16:42:30Z   \n",
       "\n",
       "                                                                  extensions  \\\n",
       "datetime                                                                       \n",
       "2020-10-16 17:42:00+00:00  html, html, html, html, html, html, html, html...   \n",
       "2020-10-16 17:41:23+00:00                                     md, png, ipynb   \n",
       "2020-10-16 16:47:44+00:00                                    ipynb, png, png   \n",
       "2020-10-16 16:43:06+00:00                                          pdf, html   \n",
       "2020-10-16 16:42:30+00:00                                            pdf, md   \n",
       "\n",
       "                                    id  \\\n",
       "datetime                                 \n",
       "2020-10-16 17:42:00+00:00  13873691257   \n",
       "2020-10-16 17:41:23+00:00  13873684842   \n",
       "2020-10-16 16:47:44+00:00  13873114207   \n",
       "2020-10-16 16:43:06+00:00  13873061051   \n",
       "2020-10-16 16:42:30+00:00  13873054646   \n",
       "\n",
       "                                                                message  \\\n",
       "datetime                                                                  \n",
       "2020-10-16 17:42:00+00:00                         Generate Pelican site   \n",
       "2020-10-16 17:41:23+00:00                 Added notebook on webscraping   \n",
       "2020-10-16 16:47:44+00:00  added beam miss figure and subplot labelling   \n",
       "2020-10-16 16:43:06+00:00                         Generate Pelican site   \n",
       "2020-10-16 16:42:30+00:00                             added MATS poster   \n",
       "\n",
       "                                                        repo  \\\n",
       "datetime                                                       \n",
       "2020-10-16 17:42:00+00:00              ueapy/ueapy.github.io   \n",
       "2020-10-16 17:41:23+00:00              ueapy/ueapy.github.io   \n",
       "2020-10-16 16:47:44+00:00            callumrollo/adcp-glider   \n",
       "2020-10-16 16:43:06+00:00  callumrollo/callumrollo.github.io   \n",
       "2020-10-16 16:42:30+00:00  callumrollo/callumrollo.github.io   \n",
       "\n",
       "                                                                sha  \\\n",
       "datetime                                                              \n",
       "2020-10-16 17:42:00+00:00  0b70258f3668dbd25fe8e9681b9324af62e3066f   \n",
       "2020-10-16 17:41:23+00:00  3364fd1e786612c16b4e999cbb832e9584818804   \n",
       "2020-10-16 16:47:44+00:00  ad7aeeac2527b92cb5a98aa8cfc134bf355571e6   \n",
       "2020-10-16 16:43:06+00:00  f5e76561f2e5886db6a413e079209d039f0bac74   \n",
       "2020-10-16 16:42:30+00:00  30a6802786ba5b479e9cf09594e51e3e5ebcef94   \n",
       "\n",
       "                                                                         url  \n",
       "datetime                                                                      \n",
       "2020-10-16 17:42:00+00:00  https://api.github.com/repos/ueapy/ueapy.githu...  \n",
       "2020-10-16 17:41:23+00:00  https://api.github.com/repos/ueapy/ueapy.githu...  \n",
       "2020-10-16 16:47:44+00:00  https://api.github.com/repos/callumrollo/adcp-...  \n",
       "2020-10-16 16:43:06+00:00  https://api.github.com/repos/callumrollo/callu...  \n",
       "2020-10-16 16:42:30+00:00  https://api.github.com/repos/callumrollo/callu...  "
      ]
     },
     "execution_count": 43,
     "metadata": {},
     "output_type": "execute_result"
    }
   ],
   "source": [
    "users = [\"callumrollo\"]\n",
    "df = gh_scrape(users, cred_file = 'credentials-secret.json')\n",
    "df.head()"
   ]
  },
  {
   "cell_type": "markdown",
   "metadata": {},
   "source": [
    "Success! We have the filetypes used in every commit by this author. This should tell us, in broad strokes, what programming language they are working on and potentially many other things. Are they working on .md files for documentation? Uploading lots of .png iamges? Do they prefer `.ipynb` notebooks to pure `.py` files?"
   ]
  },
  {
   "cell_type": "markdown",
   "metadata": {},
   "source": [
    "### Ideas for further analysis\n",
    "- Use of different filetypes. Particularly .py vs .ipynb\n",
    "- word cloud of commit messages\n",
    "- check out non-commit activity: merge, PR, issue...\n",
    "- geographical/timezone patterns\n",
    "- how much \"crunch\" did we get before presentations on Friday?\n",
    "- examine links between authors (who merged who? Comments mentioning issues?)\n",
    "\n",
    "### Github is a rich mine of information\n",
    "I hope this notebook has given you some ideas of the kinds of information you can grab from GitHub. It may also serve as a good reminder that everything we put on there is public and scrapable, so write helpful commit messages!"
   ]
  },
  {
   "cell_type": "code",
   "execution_count": null,
   "metadata": {},
   "outputs": [],
   "source": [
    "HTML(html)"
   ]
  }
 ],
 "metadata": {
  "kernelspec": {
   "display_name": "Python 3",
   "language": "python",
   "name": "python3"
  },
  "language_info": {
   "codemirror_mode": {
    "name": "ipython",
    "version": 3
   },
   "file_extension": ".py",
   "mimetype": "text/x-python",
   "name": "python",
   "nbconvert_exporter": "python",
   "pygments_lexer": "ipython3",
   "version": "3.8.5"
  }
 },
 "nbformat": 4,
 "nbformat_minor": 4
}
