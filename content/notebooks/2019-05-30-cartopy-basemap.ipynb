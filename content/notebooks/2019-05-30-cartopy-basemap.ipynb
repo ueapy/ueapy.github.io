{
 "cells": [
  {
   "cell_type": "code",
   "execution_count": null,
   "metadata": {},
   "outputs": [],
   "source": [
    "name = '2019-05-30-cartopy-basemap'\n",
    "title = 'Pleasing basemaps with cartopy'\n",
    "tags = 'matplotlib, cartopy, dataviz, maps'\n",
    "author = 'Callum Rollo'"
   ]
  },
  {
   "cell_type": "markdown",
   "metadata": {},
   "source": [
    "# Pleasing basemaps with cartopy"
   ]
  },
  {
   "cell_type": "markdown",
   "metadata": {},
   "source": [
    "To make a pretty, publication grade basemap for your study area look no further than [cartopy.](https://scitools.org.uk/cartopy/docs/latest/)\n",
    "\n",
    "In this tutorial we will walk through generating a basemap with:\n",
    "- Bathymetry/topography\n",
    "- Coastline\n",
    "- Scatter data\n",
    "- Locatinon labels\n",
    "- Inset map\n",
    "- Legend\n",
    "\n",
    "This code can be generalised to any region you wish to map"
   ]
  },
  {
   "cell_type": "markdown",
   "metadata": {},
   "source": [
    "First we import some modules for manipulating and plotting data\n"
   ]
  },
  {
   "cell_type": "code",
   "execution_count": null,
   "metadata": {},
   "outputs": [],
   "source": [
    "import pickle\n",
    "import matplotlib.pyplot as plt\n",
    "import pandas as pd\n",
    "import numpy as np"
   ]
  },
  {
   "cell_type": "markdown",
   "metadata": {},
   "source": [
    "Then we import cartopy itself"
   ]
  },
  {
   "cell_type": "code",
   "execution_count": null,
   "metadata": {},
   "outputs": [],
   "source": [
    "import cartopy"
   ]
  },
  {
   "cell_type": "markdown",
   "metadata": {},
   "source": [
    "In addition, we import cartopy's **coordinate reference system** submodule:"
   ]
  },
  {
   "cell_type": "code",
   "execution_count": null,
   "metadata": {},
   "outputs": [],
   "source": [
    "import cartopy.crs as ccrs"
   ]
  },
  {
   "cell_type": "markdown",
   "metadata": {},
   "source": [
    "A few other modules and functions which we will use later to add cool stuff to our plots. Also updating font sizes for improved readability"
   ]
  },
  {
   "cell_type": "code",
   "execution_count": null,
   "metadata": {},
   "outputs": [],
   "source": [
    "from cartopy.mpl.gridliner import LONGITUDE_FORMATTER, LATITUDE_FORMATTER\n",
    "from cartopy.io import shapereader\n",
    "\n",
    "plt.rcParams.update({'font.size': 20})\n",
    "SMALL_SIZE = 22\n",
    "MEDIUM_SIZE = 22\n",
    "LARGE_SIZE = 26\n",
    "plt.rc('font', size=SMALL_SIZE)\n",
    "plt.rc('xtick', labelsize=SMALL_SIZE)\n",
    "plt.rc('ytick', labelsize=SMALL_SIZE)\n",
    "plt.rc('axes', titlesize=SMALL_SIZE)\n",
    "plt.rc('legend', fontsize=SMALL_SIZE)"
   ]
  },
  {
   "cell_type": "markdown",
   "metadata": {},
   "source": [
    "### Note on bathymetry data\n",
    "To save space and time I have subset the bathymetry plotted in this example. If you wish to map a different area you will need to download the GEBCO topography data found [here](https://www.gebco.net/data_and_products/gridded_bathymetry_data) then uncomment and run the code block below. I suggest doing this once only as it takes some time! After running this your bathymetry selection will replace the example bathy in the file bathy.pkl"
   ]
  },
  {
   "cell_type": "code",
   "execution_count": null,
   "metadata": {},
   "outputs": [],
   "source": [
    "# from netCDF4 import Dataset\n",
    "# # A function to find the nearest item to a given point. Very handy with coordinates\n",
    "# def argnearest(items,pivot):\n",
    "#     near_item=min(items, key=lambda x: abs(x - pivot))\n",
    "#     for i in range(len(items)): \n",
    "#         if items[i]==near_item:\n",
    "#             return i\n",
    "# # Enter the coordinates of your desired box here [lon,lat] -180<lon<180\n",
    "# SW_vertex = [-42,-60]\n",
    "# NE_vertex = [-23,-50]\n",
    "#  \n",
    "# gebco = Dataset(\"/path/to/your/GEBCO/folder/GEBCO_2014_2D.nc\", \"r\", format=\"NETCDF4\")\n",
    "# all_lat = gebco['lat'][:]\n",
    "# all_lon = gebco['lon'][:]\n",
    "# \n",
    "# \n",
    "# SW_indices = [argnearest(all_lon,SW_vertex[0]),argnearest(all_lat,SW_vertex[1])]\n",
    "# NE_indices = [argnearest(all_lon,NE_vertex[0]),argnearest(all_lat,NE_vertex[1])]\n",
    "# \n",
    "# lon_selec = all_lon[SW_indices[0]:NE_indices[0]+1]\n",
    "# lat_selec = all_lat[SW_indices[1]:NE_indices[1]+1]\n",
    "# \n",
    "# bath_lat_selec = gebco['elevation'][np.logical_and(all_lat>=lat_selec[0],all_lat<=lat_selec[-1])][:]\n",
    "# bath_selec = bath_lat_selec[:,np.logical_and(all_lon>=lon_selec[0],all_lon<=lon_selec[-1])]\n",
    "# \n",
    "# # To save our bathymetry data\n",
    "# bathy_data = {'bathy_lon': lon_selec,\n",
    "#          'bathy_lat': lat_selec,\n",
    "#          'bathy_h': bath_selec}\n",
    "# pickle.dump( bathy_data, open( \"bathy.pkl\", \"wb\" ) )\n"
   ]
  },
  {
   "cell_type": "markdown",
   "metadata": {},
   "source": [
    "After you've run the code block above once, or you are using the example data, simply load the stored bathymetry data"
   ]
  },
  {
   "cell_type": "code",
   "execution_count": null,
   "metadata": {},
   "outputs": [],
   "source": [
    "bathy_data = pickle.load( open( \"bathy.pkl\", \"rb\" ) )\n",
    "bathy_lon,bathy_lat,bathy_h = map(bathy_data.get, ('bathy_lon', 'bathy_lat','bathy_h'))"
   ]
  },
  {
   "cell_type": "markdown",
   "metadata": {},
   "source": [
    "We're just interested in bathy here, so set any height values greater than 0 to to 0 and set contour levels to plot later"
   ]
  },
  {
   "cell_type": "code",
   "execution_count": null,
   "metadata": {},
   "outputs": [],
   "source": [
    "bathy_h[bathy_h>0] = 0\n",
    "bathy_conts = np.arange(-9000,500,500)"
   ]
  },
  {
   "cell_type": "markdown",
   "metadata": {},
   "source": [
    "Here we load some scatter data from a two column csv for plotting later"
   ]
  },
  {
   "cell_type": "code",
   "execution_count": null,
   "metadata": {},
   "outputs": [],
   "source": [
    "# Load some scatter data of smaple locations near South Georgia\n",
    "data = pd.read_csv('scatter_coords.csv')\n",
    "lons = data.Longitude.values\n",
    "lats = data.Latitude.values\n",
    "\n",
    "# Subset of sampling locations\n",
    "sample_lon = lons[[0,2,7]]\n",
    "sample_lat = lats[[0,2,7]]\n"
   ]
  },
  {
   "cell_type": "markdown",
   "metadata": {},
   "source": [
    "Now to make the map itself. First we define our coordinate system. Here we are using a Plate Carrée projection, which is one of *equidistant cylindrical projections*.\n",
    "\n",
    "A full list of Cartopy projections is available at http://scitools.org.uk/cartopy/docs/latest/crs/projections.html.\n",
    "\n",
    "Then we create figure and axes instances and set the plotting extent in degrees [West, East, South, North]"
   ]
  },
  {
   "cell_type": "code",
   "execution_count": null,
   "metadata": {
    "scrolled": true
   },
   "outputs": [],
   "source": [
    "coord=ccrs.PlateCarree()\n",
    "fig = plt.figure(figsize=(20,10))\n",
    "ax = fig.add_subplot(111, projection=coord)\n",
    "ax.set_extent([-42, -23, -60, -50], crs=coord)"
   ]
  },
  {
   "cell_type": "markdown",
   "metadata": {},
   "source": [
    "Now we contour the bathymetry data"
   ]
  },
  {
   "cell_type": "code",
   "execution_count": null,
   "metadata": {},
   "outputs": [],
   "source": [
    "fig = plt.figure(figsize=(20,10))\n",
    "ax = fig.add_subplot(111, projection=coord)\n",
    "ax.set_extent([-42, -23, -60, -50], crs=coord)\n",
    "bathy=ax.contourf(bathy_lon,bathy_lat,bathy_h,bathy_conts,transform=coord,cmap='Blues_r')"
   ]
  },
  {
   "cell_type": "markdown",
   "metadata": {},
   "source": [
    "A good start. To make it more map like we add gridlines, formatted labels and a colorbar"
   ]
  },
  {
   "cell_type": "code",
   "execution_count": null,
   "metadata": {},
   "outputs": [],
   "source": [
    "fig = plt.figure(figsize=(20,10))\n",
    "ax = fig.add_subplot(111, projection=coord)\n",
    "ax.set_extent([-42, -23, -60, -50], crs=coord)\n",
    "bathy=ax.contourf(bathy_lon,bathy_lat,bathy_h,bathy_conts,transform=coord,cmap='Blues_r')\n",
    "\n",
    "gl = ax.gridlines(crs=ccrs.PlateCarree(), draw_labels=True,\n",
    "                  linewidth=1, color='k', alpha=0.5, linestyle='--')\n",
    "gl.xlabels_top = False\n",
    "gl.ylabels_right = False\n",
    "gl.xformatter = LONGITUDE_FORMATTER\n",
    "gl.yformatter = LATITUDE_FORMATTER\n",
    "gl.ylines = True\n",
    "gl.xlines = True\n",
    "fig.colorbar(bathy,ax=ax,orientation='horizontal',label='Bathymetry (m)',shrink=0.7,pad=0.08,aspect=40);"
   ]
  },
  {
   "cell_type": "markdown",
   "metadata": {},
   "source": [
    "Now to add a few more features. First coastlines from cartopy's natural features toolbox. Then scatters of the samples we imported earlier"
   ]
  },
  {
   "cell_type": "code",
   "execution_count": null,
   "metadata": {},
   "outputs": [],
   "source": [
    "fig = plt.figure(figsize=(20,10))\n",
    "ax = fig.add_subplot(111, projection=coord)\n",
    "ax.set_extent([-42, -23, -60, -50], crs=coord)\n",
    "bathy=ax.contourf(bathy_lon,bathy_lat,bathy_h,bathy_conts,transform=coord,cmap='Blues_r')\n",
    "\n",
    "gl = ax.gridlines(crs=ccrs.PlateCarree(), draw_labels=True,\n",
    "                  linewidth=1, color='k', alpha=0.5, linestyle='--')\n",
    "gl.xlabels_top = False\n",
    "gl.ylabels_right = False\n",
    "gl.xformatter = LONGITUDE_FORMATTER\n",
    "gl.yformatter = LATITUDE_FORMATTER\n",
    "gl.ylines = True\n",
    "gl.xlines = True\n",
    "fig.colorbar(bathy,ax=ax,orientation='horizontal',label='Bathymetry (m)',shrink=0.7,pad=0.08,aspect=40)\n",
    "\n",
    "\n",
    "feature = cartopy.feature.NaturalEarthFeature(name='coastline',\n",
    "                                              category='physical',\n",
    "                                              scale='50m',\n",
    "                                              edgecolor='0.5',\n",
    "                                              facecolor='0.8')\n",
    "ax.add_feature(feature)\n",
    "ax.scatter(lons,lats,zorder=5,color='red',label='Samples collected')\n",
    "ax.scatter(sample_lon,sample_lat,zorder=10,color='k',marker='D',s=50,label='Samples sequenced');"
   ]
  },
  {
   "cell_type": "markdown",
   "metadata": {},
   "source": [
    "To finish off the map we add a legend for the scatter plot, an inset map showing the area at a larger scale and some text identifying the islands"
   ]
  },
  {
   "cell_type": "code",
   "execution_count": null,
   "metadata": {},
   "outputs": [],
   "source": [
    "fig = plt.figure(figsize=(20,10))\n",
    "ax = fig.add_subplot(111, projection=coord)\n",
    "ax.set_extent([-42, -23, -60, -50], crs=coord)\n",
    "bathy=ax.contourf(bathy_lon,bathy_lat,bathy_h,bathy_conts,transform=coord,cmap='Blues_r')\n",
    "\n",
    "gl = ax.gridlines(crs=ccrs.PlateCarree(), draw_labels=True,\n",
    "                  linewidth=1, color='k', alpha=0.5, linestyle='--')\n",
    "gl.xlabels_top = False\n",
    "gl.ylabels_right = False\n",
    "gl.xformatter = LONGITUDE_FORMATTER\n",
    "gl.yformatter = LATITUDE_FORMATTER\n",
    "gl.ylines = True\n",
    "gl.xlines = True\n",
    "fig.colorbar(bathy,ax=ax,orientation='horizontal',label='Bathymetry (m)',shrink=0.7,pad=0.08,aspect=40)\n",
    "ax.add_feature(feature)\n",
    "ax.scatter(lons,lats,zorder=5,color='red',label='Samples collected')\n",
    "ax.scatter(sample_lon,sample_lat,zorder=10,color='k',marker='D',s=50,label='Samples sequenced')\n",
    "fig .legend( bbox_to_anchor=(0.12,0.2),loc='lower left')\n",
    "\n",
    "tr2=ccrs.Stereographic(central_latitude=-55,central_longitude=-35)\n",
    "sub_ax = plt.axes([0.63, 0.65, 0.2, 0.2], projection=ccrs.Stereographic(central_latitude=-55,central_longitude=-35))\n",
    "sub_ax.set_extent([-70, -15, -75, 10])\n",
    "x_co = [-42,-42,-23,-23,-42]\n",
    "y_co = [-60,-50,-50,-60,-60]\n",
    "sub_ax.add_feature(feature)\n",
    "sub_ax.plot(x_co,y_co,transform=coord,zorder=10,color='red')\n",
    "\n",
    "ax.text(-38.5,-54.9,'South\\nGeorgia',fontsize=14)\n",
    "ax.text(-26.8,-58.2,'South\\nSandwich\\nIslands',fontsize=14);"
   ]
  },
  {
   "cell_type": "code",
   "execution_count": null,
   "metadata": {},
   "outputs": [],
   "source": [
    "HTML(html)"
   ]
  }
 ],
 "metadata": {
  "kernelspec": {
   "display_name": "Python 3",
   "language": "python",
   "name": "python3"
  },
  "language_info": {
   "codemirror_mode": {
    "name": "ipython",
    "version": 3
   },
   "file_extension": ".py",
   "mimetype": "text/x-python",
   "name": "python",
   "nbconvert_exporter": "python",
   "pygments_lexer": "ipython3",
   "version": "3.7.2"
  }
 },
 "nbformat": 4,
 "nbformat_minor": 2
}
