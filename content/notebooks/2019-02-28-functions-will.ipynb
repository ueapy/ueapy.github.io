{
 "cells": [
  {
   "cell_type": "code",
   "execution_count": 1,
   "metadata": {},
   "outputs": [],
   "source": [
    "name = '2019-02-28-functions-will'\n",
    "title = 'Functions in Python, an introduction'\n",
    "tags = 'functions, basics'\n",
    "author = 'Wilhelm Hodder'"
   ]
  },
  {
   "cell_type": "code",
   "execution_count": 2,
   "metadata": {},
   "outputs": [],
   "source": [
    "from nb_tools import connect_notebook_to_post\n",
    "from IPython.core.display import HTML\n",
    "\n",
    "html = connect_notebook_to_post(name, title, tags, author)"
   ]
  },
  {
   "cell_type": "markdown",
   "metadata": {},
   "source": [
    "## Basic principles and features\n",
    "\n",
    "Functions are exactly that: they usually take an input and return an output. \n",
    "When you do your typical Python coding you will be using functions all the time, for example **np.mean()** or **np.arange()** from the numpy library.\n",
    "The great thing is you can write them yourself!\n",
    "\n",
    "Below is a very simple example:"
   ]
  },
  {
   "cell_type": "code",
   "execution_count": 3,
   "metadata": {
    "collapsed": true
   },
   "outputs": [],
   "source": [
    "def print_a_phrase(): # we start the definition of a function with \"def\"\n",
    "    print(\"Academics of the world unite! You have nothing to lose but your over-priced proprietary software licenses.\")\n",
    "    #return 0;"
   ]
  },
  {
   "cell_type": "code",
   "execution_count": 4,
   "metadata": {},
   "outputs": [
    {
     "name": "stdout",
     "output_type": "stream",
     "text": [
      "Academics of the world unite! You have nothing to lose but your over-priced proprietary software licenses.\n"
     ]
    }
   ],
   "source": [
    "print_a_phrase()"
   ]
  },
  {
   "cell_type": "markdown",
   "metadata": {},
   "source": [
    "We define the function using **def**, followed by whatever name we choose for the function, which is immediately followed by a round bracket **()**. The bracket is where you would write your *arguments* in, for example your input variable.\n",
    "\n",
    "The function above doesn't take an input, but it prints a pre-defined phrase. If we were to make it more dynamic and make it print any input we want to give it, it would just become **print()**, so not much use for this here: Do not re-invent the wheel!\n",
    "\n",
    "It also doesn't actually *return* anything, it just *does* something. In C++ this function would be defined as **void**."
   ]
  },
  {
   "cell_type": "markdown",
   "metadata": {},
   "source": [
    "What if we do give it an input? Below are two examples of simple functions for unit conversion:"
   ]
  },
  {
   "cell_type": "code",
   "execution_count": 5,
   "metadata": {
    "collapsed": true
   },
   "outputs": [],
   "source": [
    "def convert_pa_to_mb(pascal):\n",
    "    millibar = pascal * 0.01\n",
    "    return millibar"
   ]
  },
  {
   "cell_type": "markdown",
   "metadata": {},
   "source": [
    "See how the above takes the input, operates on it, and then **returns** your output. Note how we didn't specifify what form **Pascal** has to take: we could put in an integer or a float. This is due to Python's *polymorphism*. We could also put a string in, and it wouldn't complain until it has to do maths on it, which is when it causes an error. More on this later."
   ]
  },
  {
   "cell_type": "code",
   "execution_count": 6,
   "metadata": {},
   "outputs": [
    {
     "data": {
      "text/plain": [
       "800.0"
      ]
     },
     "execution_count": 6,
     "metadata": {},
     "output_type": "execute_result"
    }
   ],
   "source": [
    "convert_pa_to_mb(80000)"
   ]
  },
  {
   "cell_type": "markdown",
   "metadata": {},
   "source": [
    "But if your function is that simple, you can save a line by calculating and returning the result in one go:"
   ]
  },
  {
   "cell_type": "code",
   "execution_count": 7,
   "metadata": {
    "collapsed": true
   },
   "outputs": [],
   "source": [
    "def convert_mb_to_pa(millibar):\n",
    "    return millibar * 100"
   ]
  },
  {
   "cell_type": "code",
   "execution_count": 8,
   "metadata": {},
   "outputs": [
    {
     "data": {
      "text/plain": [
       "105000"
      ]
     },
     "execution_count": 8,
     "metadata": {},
     "output_type": "execute_result"
    }
   ],
   "source": [
    "convert_mb_to_pa(1050)"
   ]
  },
  {
   "cell_type": "markdown",
   "metadata": {},
   "source": [
    "Now all of this was very basic, and you might think, why not just write the calculation directly into my main code? \n",
    "\n",
    "For a start, as your work becomes more sophisticated the longer and more complex your calculations and operations become. Then consider that you'll probably end up wanting to reuse the same task in your code or in another code. If you wrote out the same stuff again and again your code would get very messy very quickly. Instead it really does help to keep recurring functions neatly titied away at the top or bottom of your code, or in a seperate file."
   ]
  },
  {
   "cell_type": "code",
   "execution_count": 9,
   "metadata": {
    "collapsed": true
   },
   "outputs": [],
   "source": [
    "def check_integer_and_change(value):\n",
    "    if value.is_integer() == False:\n",
    "        remainder = value\n",
    "        while remainder > 1:\n",
    "            remainder = remainder - 1  # reduce number to smallest positive value\n",
    "        if remainder >= 0.5:  # if half ovr above, round up\n",
    "            value = value + 1 - remainder\n",
    "        else:\n",
    "            value = value - remainder  # round down\n",
    "    return value"
   ]
  },
  {
   "cell_type": "markdown",
   "metadata": {},
   "source": [
    "Above is just another example of a function; it figures out if a value is an integer, and if it is not, it rounds it up or down, as appropriate.\n",
    "\n",
    "Notice **is_integer()** is also a function, from the main python library. Here it doesn't take an input in it's brackets **()**, but instead it's \"attached\" to the variable **value**. This is because it is a *class function*, and in Python variables are *class objects*, but that's a story for another presentation. In fact, you can find an excellent tutorial on classes here: https://docs.python.org/3/tutorial/classes.html ."
   ]
  },
  {
   "cell_type": "code",
   "execution_count": 10,
   "metadata": {},
   "outputs": [
    {
     "name": "stdout",
     "output_type": "stream",
     "text": [
      "[0.  1.  2.  3.  4.  1.2 8.  4.5]\n"
     ]
    }
   ],
   "source": [
    "import numpy as np  # need this to make array\n",
    "\n",
    "my_array = np.arange(5)  # make an array of integers\n",
    "new_array = np.array([1.2, 8, 4.5])  #  make another array to insert into our main array\n",
    "my_array = np.concatenate((my_array, new_array))  # let's add some non-integers to our little array\n",
    "print(my_array)"
   ]
  },
  {
   "cell_type": "code",
   "execution_count": 11,
   "metadata": {},
   "outputs": [
    {
     "name": "stdout",
     "output_type": "stream",
     "text": [
      "[0. 1. 2. 3. 4. 1. 8. 5.]\n"
     ]
    }
   ],
   "source": [
    "for i in range(len(my_array)):\n",
    "    my_array[i] = check_integer_and_change(my_array[i])  # we perform our function from above on each array element\n",
    "\n",
    "print(my_array)"
   ]
  },
  {
   "cell_type": "markdown",
   "metadata": {},
   "source": [
    "Another good reason for using functions is how it deals with *memory*: If you use arrays a lot, and you do all your calculations in line with your main code then you might start piling up a lot of *stuff*, i.e. you use up your memory, which can lead to your program to slow, or even memory leackage. Instead, functions take your input, temporarily take some extra space in your memory, and once they spit out their output, they delete whatever extra stuff they needed for their calculation, but without affecting your input, unless you want it to. - **for** and **while** loops, or when you use **if**, also delete any variables that were defined within them, but they might change your input from before the loop, if you're not careful!\n",
    "\n",
    "To illustrate this danger:"
   ]
  },
  {
   "cell_type": "code",
   "execution_count": 12,
   "metadata": {},
   "outputs": [],
   "source": [
    "def double_something(value):\n",
    "    value = value * 2 # we actively modify the original input variable; in many cases the original value would be irretrievable\n",
    "    return value"
   ]
  },
  {
   "cell_type": "code",
   "execution_count": 13,
   "metadata": {},
   "outputs": [
    {
     "name": "stdout",
     "output_type": "stream",
     "text": [
      "new_value = 10.0\n",
      "input = 5.0\n"
     ]
    }
   ],
   "source": [
    "input_value = 5.0\n",
    "new_value = double_something(input_value)\n",
    "print(\"new_value =\", new_value)\n",
    "# now check if our original input is the same\n",
    "print(\"input =\", input_value)"
   ]
  },
  {
   "cell_type": "code",
   "execution_count": 14,
   "metadata": {},
   "outputs": [
    {
     "name": "stdout",
     "output_type": "stream",
     "text": [
      "new_value = 10.0\n",
      "input = 10.0\n"
     ]
    }
   ],
   "source": [
    "# now let's do the same the function does, but in a loop for 1 iteration:\n",
    "value = 5.0\n",
    "new_value = 0\n",
    "for i in range(1):\n",
    "    # we copy the function above exactly\n",
    "    value = value * 2\n",
    "    new_value = value # our \"return\"\n",
    "    \n",
    "    \n",
    "print(\"new_value =\", new_value)\n",
    "# now check if our original input is the same\n",
    "print(\"input =\", value)"
   ]
  },
  {
   "cell_type": "markdown",
   "metadata": {},
   "source": [
    "So we can see that due to sloppy coding we now changed our original input in the **for** loop, but preserved it when we used a function instead."
   ]
  },
  {
   "cell_type": "markdown",
   "metadata": {},
   "source": [
    "There are instances where a function could permanently affect your input data, due to the fact that in python when you use the **=** operator, the variables you get are really just pointers to the same data. It is recommended to make sure you've properly copied vital data before passing it to a function."
   ]
  },
  {
   "cell_type": "markdown",
   "metadata": {},
   "source": [
    "Now let's look at putting different variable types in, see what we can get out, and think of how what we'll find could be useful to us.\n",
    "Say you want a function that can operate on a single quantity, as well as multiple quantities, e.g. in an array. For this example we will do a unit conversion and then calculate the average of all the input values.\n",
    "But we will use **try** and **except** to make a distinction between single values and arrays."
   ]
  },
  {
   "cell_type": "code",
   "execution_count": 15,
   "metadata": {
    "collapsed": true
   },
   "outputs": [],
   "source": [
    "def convert_JeV_and_mean(eV_values): # take input in eV\n",
    "    \n",
    "    joule_values = 1.60218e-18 * eV_values # here just do the simple conversion\n",
    "    \n",
    "    # if we want the mean from numpy we need to make sure we only do that for an array input\n",
    "    try:\n",
    "        array_length = len(joule_values) # if we have a single value, this line will cause an error\n",
    "        mean = np.mean(joule_values) \n",
    "    except: \n",
    "        return joule_values # if it's just a single value, return it by itself\n",
    "    \n",
    "    return joule_values, mean # if it's an array, we can return both it and its mean\n",
    "        "
   ]
  },
  {
   "cell_type": "markdown",
   "metadata": {},
   "source": [
    "Let's put in a float..."
   ]
  },
  {
   "cell_type": "code",
   "execution_count": 16,
   "metadata": {},
   "outputs": [
    {
     "data": {
      "text/plain": [
       "1.60218e-18"
      ]
     },
     "execution_count": 16,
     "metadata": {},
     "output_type": "execute_result"
    }
   ],
   "source": [
    "convert_JeV_and_mean(1.0)"
   ]
  },
  {
   "cell_type": "markdown",
   "metadata": {},
   "source": [
    "Only a single output was returned: the converted float.\n",
    "\n",
    "Now let's input a **numpy array**. (Btw, the values seen below are of the order GeV, which is a common sight in high energy particle physics, and in astrophysics)"
   ]
  },
  {
   "cell_type": "code",
   "execution_count": 17,
   "metadata": {},
   "outputs": [
    {
     "data": {
      "text/plain": [
       "(array([8.16406841e-29, 8.19194634e-29, 7.82761061e-29]), 8.061208452e-29)"
      ]
     },
     "execution_count": 17,
     "metadata": {},
     "output_type": "execute_result"
    }
   ],
   "source": [
    "some_data = np.array([5.0956e-11, 5.1130e-11, 4.8856e-11 ])\n",
    "convert_JeV_and_mean(some_data)"
   ]
  },
  {
   "cell_type": "markdown",
   "metadata": {},
   "source": [
    "The output above looks complicated, but it is essentially first the array of converted values, and then the mean. But this bracketed output looks messy and in your own code you would do something like this:"
   ]
  },
  {
   "cell_type": "code",
   "execution_count": 18,
   "metadata": {},
   "outputs": [
    {
     "name": "stdout",
     "output_type": "stream",
     "text": [
      "results = [8.16406841e-29 8.19194634e-29 7.82761061e-29]\n",
      "mean = 8.061208452e-29 J\n"
     ]
    }
   ],
   "source": [
    "results, mean = convert_JeV_and_mean(some_data)\n",
    "\n",
    "print(\"results =\", results); print(\"mean =\", mean, \"J\")"
   ]
  },
  {
   "cell_type": "markdown",
   "metadata": {},
   "source": [
    "As the function potentially outputs two different objects, we can assign them to seperate variables as shown above.\n",
    "\n",
    "Notice how the order of the output (i.e. values *then* mean) corresponds to the order in which we wrote them after **return** at the bottom of our function."
   ]
  },
  {
   "cell_type": "markdown",
   "metadata": {},
   "source": [
    "## Examples of advanced features\n",
    "\n",
    "### Decorators and Wrappers\n",
    "\n",
    "Quite neatly, we can define functions within functions, and also return functions from functions. An example where this is applied is the use of **decorators** and **wrappers**, which are types of functions. Below is a demonstration of a very simple example: we have a function called **func()**, and we *wrap* it up in another function, which will just measure time, inside the decorator."
   ]
  },
  {
   "cell_type": "code",
   "execution_count": 19,
   "metadata": {
    "collapsed": true
   },
   "outputs": [],
   "source": [
    "from functools import wraps\n",
    "import time \n",
    "\n",
    "def decorator(f):\n",
    "    @wraps(f)\n",
    "    def wrapper(*args, **kwargs):\n",
    "        start_time = time.time() \n",
    "        rv = f(*args, **kwargs) # here we run the function f\n",
    "        print(\"Time taken =\", time.time() - start_time) # difference in points in time gives duration of f run\n",
    "        return rv\n",
    "    return wrapper # we return the function called wrapper\n",
    "\n",
    "@decorator\n",
    "def func():\n",
    "    pass # does nothing, just for demonstration"
   ]
  },
  {
   "cell_type": "markdown",
   "metadata": {},
   "source": [
    "The `@` followed by the name of a function, here **wraps** and **decorator**, acts like a kind of override. You place the @ right above a function definition, which, for example, tells the program that whenever **func** is run, it is *decorated* by the function called **decorator**. decorator returns **wrapper**, which will now run everytime func is run. **\\*args** and **\\*\\*kwargs** are ways of allowing you to pass a flexible number of arguments to your function, and are explained here: http://book.pythontips.com/en/latest/args_and_kwargs.html .\n",
    "\n",
    "Let's see if it works:"
   ]
  },
  {
   "cell_type": "code",
   "execution_count": 20,
   "metadata": {},
   "outputs": [
    {
     "name": "stdout",
     "output_type": "stream",
     "text": [
      "Time taken = 9.5367431640625e-07\n"
     ]
    }
   ],
   "source": [
    "func()"
   ]
  },
  {
   "cell_type": "markdown",
   "metadata": {},
   "source": [
    "Running  **func()** printed the time taken, which will naturally be negligible, due to the simplicity of the function."
   ]
  },
  {
   "cell_type": "markdown",
   "metadata": {},
   "source": [
    "### Docstrings\n",
    "\n",
    "Finally, not necessarily an \"advanced\" feature but still useful, we have **docstrings**, which are known to be *documentation* inside your code. You can insert a docstring anywhere in your code, but it's not advised as that can slow your program down, and in most places you should use *comments* instead. However, they are very useful, say, at the top of a function definition to explain *what* the function does. For example:"
   ]
  },
  {
   "cell_type": "code",
   "execution_count": 21,
   "metadata": {
    "collapsed": true
   },
   "outputs": [],
   "source": [
    "def check_integer_and_round(value):\n",
    "    \"\"\"\n",
    "    Function takes a float or integer value and tests the quantity for its type.\n",
    "    If the input is an integer ther function does nothing more and returns the original input\n",
    "    If the input is a non-integer it rounds it to the nearest whole integer, and returns the result.\n",
    "    \"\"\"\n",
    "    if value.is_integer() == False:\n",
    "        remainder = value\n",
    "        while remainder > 1:\n",
    "            remainder = remainder - 1 # reduce number to smallest positive value \n",
    "        if remainder >= 0.5: # if half ovr above, round up\n",
    "            value = value + 1 - remainder\n",
    "        else:\n",
    "            value = value - remainder # round down\n",
    "    return value"
   ]
  },
  {
   "cell_type": "markdown",
   "metadata": {},
   "source": [
    "We reused the previous function for rounding numbers to integers, with a small change to its name to avoid any issues with doubly defining it. We also addedd some text within two triple quotation marks `\"\"\"`; this is a docstring. Like a comment, which starts with a hash `#`, it does nothing functionally when the code is run, it simply serves to help the user understand what the function does. In your terminal you can call it with the **help()** function:"
   ]
  },
  {
   "cell_type": "code",
   "execution_count": 22,
   "metadata": {},
   "outputs": [
    {
     "name": "stdout",
     "output_type": "stream",
     "text": [
      "Help on function check_integer_and_round in module __main__:\n",
      "\n",
      "check_integer_and_round(value)\n",
      "    Function takes a float or integer value and tests the quantity for its type.\n",
      "    If the input is an integer ther function does nothing more and returns the original input\n",
      "    If the input is a non-integer it rounds it to the nearest whole integer, and returns the result.\n",
      "\n"
     ]
    }
   ],
   "source": [
    "help(check_integer_and_round)"
   ]
  },
  {
   "cell_type": "markdown",
   "metadata": {},
   "source": [
    "A few more examples can be found in an earlier post: [Some peculiarities of using functions in Python](https://ueapy.github.io/some-peculiarities-of-using-functions-in-python.html)."
   ]
  },
  {
   "cell_type": "code",
   "execution_count": 23,
   "metadata": {},
   "outputs": [
    {
     "data": {
      "text/html": [
       "\n",
       "    <small>\n",
       "    <p> This post was written as an IPython (Jupyter) notebook. You can view or download it using\n",
       "    <a href=\"http://nbviewer.ipython.org/github/ueapy/ueapy.github.io/blob/src/content/notebooks/2019-02-28-functions-will.ipynb\">nbviewer</a>.</p>\n",
       "    "
      ],
      "text/plain": [
       "<IPython.core.display.HTML object>"
      ]
     },
     "execution_count": 23,
     "metadata": {},
     "output_type": "execute_result"
    }
   ],
   "source": [
    "HTML(html)"
   ]
  }
 ],
 "metadata": {
  "kernelspec": {
   "display_name": "Python 3",
   "language": "python",
   "name": "python3"
  },
  "language_info": {
   "codemirror_mode": {
    "name": "ipython",
    "version": 3
   },
   "file_extension": ".py",
   "mimetype": "text/x-python",
   "name": "python",
   "nbconvert_exporter": "python",
   "pygments_lexer": "ipython3",
   "version": "3.7.1"
  }
 },
 "nbformat": 4,
 "nbformat_minor": 2
}
