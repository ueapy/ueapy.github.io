{
 "cells": [
  {
   "cell_type": "code",
   "execution_count": 1,
   "metadata": {},
   "outputs": [],
   "source": [
    "name = \"2019-11-21-become-a-10x-programmer\"\n",
    "title = \"Speeding up python using tools from the standard library\"\n",
    "tags = \"optimisation, profiling, testing, version control\"\n",
    "author = \"Anthony De Gol\""
   ]
  },
  {
   "cell_type": "code",
   "execution_count": 2,
   "metadata": {},
   "outputs": [],
   "source": [
    "from nb_tools import connect_notebook_to_post\n",
    "from IPython.core.display import HTML\n",
    "\n",
    "html = connect_notebook_to_post(name, title, tags, author)"
   ]
  },
  {
   "cell_type": "markdown",
   "metadata": {},
   "source": [
    "Anthony De Gol spoke to us about lessons learned form academia and industry on how to be a 10x better programmer with a few simple tools and techniques. Here are Callum's notes from the talk.\n",
    "\n",
    "One idea that really stood out for me was that of **cognitive resource**. You only have a certain amount of ability to process cognitive tasks, the more you can smooth your workflow to simplify or remove complications, the more cognitive power you can bring to bear on you task. The tools and techniques Anthony talks about all contribute to this lessening of cognitive leakage, making your work simpler, better organised and more coherent.\n",
    "\n",
    "Anthony's recommendations fall into three broad groups:"
   ]
  },
  {
   "cell_type": "markdown",
   "metadata": {},
   "source": [
    "### 1. Version Control\n",
    "\n",
    "Use a version control system like [git](https://git-scm.com/) to keep track of your own work and collaborate with others. [Tutorials](https://try.github.io/) [abound](https://docs.gitlab.com/ee/gitlab-basics/start-using-git.html) \n",
    "\n",
    "As well as helping you keep your work organised (no more data_process-ver2-final-improved-andy_edit-FINAL.py) git is an invaluable tool for collaborating with others. You'll thank yourself later!"
   ]
  },
  {
   "cell_type": "markdown",
   "metadata": {},
   "source": [
    "### 2. Unit Testing"
   ]
  },
  {
   "cell_type": "markdown",
   "metadata": {},
   "source": [
    "### 3. The Functional Programming Paradigm\n",
    "\n",
    "Exemplified by [this talk by Rich Hickey](https://www.infoq.com/presentations/Simple-Made-Easy/)"
   ]
  },
  {
   "cell_type": "markdown",
   "metadata": {},
   "source": [
    "This was my take on Anthony's talk, if you have anything to add, get in touch! You might even do a pull request on this repo with your added comments :) "
   ]
  },
  {
   "cell_type": "code",
   "execution_count": 22,
   "metadata": {},
   "outputs": [
    {
     "data": {
      "text/html": [
       "\n",
       "    <small>\n",
       "    <p> This post was written as an IPython (Jupyter) notebook. You can view or download it using\n",
       "    <a href=\"http://nbviewer.ipython.org/github/ueapy/ueapy.github.io/blob/src/content/notebooks/2019-10-08-speedy-python.ipynb\">nbviewer</a>.</p>\n",
       "    "
      ],
      "text/plain": [
       "<IPython.core.display.HTML object>"
      ]
     },
     "execution_count": 22,
     "metadata": {},
     "output_type": "execute_result"
    }
   ],
   "source": [
    "HTML(html)"
   ]
  }
 ],
 "metadata": {
  "kernelspec": {
   "display_name": "Python 3",
   "language": "python",
   "name": "python3"
  },
  "language_info": {
   "codemirror_mode": {
    "name": "ipython",
    "version": 3
   },
   "file_extension": ".py",
   "mimetype": "text/x-python",
   "name": "python",
   "nbconvert_exporter": "python",
   "pygments_lexer": "ipython3",
   "version": "3.7.3"
  }
 },
 "nbformat": 4,
 "nbformat_minor": 2
}
