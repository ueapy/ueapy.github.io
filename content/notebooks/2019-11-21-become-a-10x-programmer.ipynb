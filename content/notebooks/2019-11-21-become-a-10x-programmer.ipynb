{
 "cells": [
  {
   "cell_type": "code",
   "execution_count": 1,
   "metadata": {},
   "outputs": [],
   "source": [
    "name = \"2019-11-21-become-a-10x-programmer\"\n",
    "title = \"Become a 10x programmer, lessons from academia and industry\"\n",
    "tags = \"optimisation, profiling, testing, version control\"\n",
    "author = \"Anthony De Gol\""
   ]
  },
  {
   "cell_type": "code",
   "execution_count": 2,
   "metadata": {},
   "outputs": [],
   "source": [
    "from nb_tools import connect_notebook_to_post\n",
    "from IPython.core.display import HTML\n",
    "\n",
    "html = connect_notebook_to_post(name, title, tags, author)"
   ]
  },
  {
   "cell_type": "markdown",
   "metadata": {},
   "source": [
    "Anthony De Gol spoke to us about lessons learned form academia and industry on how to be a 10x better programmer with a few simple tools and techniques. Here are Callum's notes from the talk.\n",
    "\n",
    "Anthony's recommendations fall into three broad groups:"
   ]
  },
  {
   "cell_type": "markdown",
   "metadata": {},
   "source": [
    "### 1. Version Control\n",
    "\n",
    "Use a version control system like [git](https://git-scm.com/) to keep track of your own work and collaborate with others. [Tutorials](https://try.github.io/) [abound](https://docs.gitlab.com/ee/gitlab-basics/start-using-git.html) \n",
    "\n",
    "As well as helping you keep your work organised (no more data_process-ver2-final-improved-andy_edit-FINAL.py) git is an invaluable tool for collaborating with others. You'll thank yourself later!\n",
    "\n",
    "[UEA Python](https://github.com/ueapy) is managed entirely with git (including this website)"
   ]
  },
  {
   "cell_type": "markdown",
   "metadata": {},
   "source": [
    "### 2. Unit Testing\n",
    "\n",
    "Writing code that is easily testable makes for better code even before the tests are written. Your code will be broken up into managable, logical chunks. You don't need to go as far as test driven development, but think when you are writing code how you can make it easy to test.\n",
    "\n",
    "Anthony recommends [pyteest](https://pypi.org/project/pytest/) for Python\n",
    "\n",
    "Good testing practices:\n",
    "- Minimise the iteration cycle: make short self contained functions that are easy to write tests for\n",
    "- Speed up debugging by using a subset of data to test\n",
    "- Use a debugger like [ipdb](https://pypi.org/project/ipdb/)\n",
    "\n",
    "If you think tests waste time, try analysing invalid results for a month. Tests will save you stress down the line\n"
   ]
  },
  {
   "cell_type": "markdown",
   "metadata": {},
   "source": [
    "### 3. The Functional Programming Paradigm\n",
    "\n",
    "Exemplified by [this talk by Rich Hickey](https://www.infoq.com/presentations/Simple-Made-Easy/)\n",
    "\n",
    "You don't neeed to do functional programming religiously (no need to learn clojure) but it's a useful paradigm to make your code modular and reusable"
   ]
  },
  {
   "cell_type": "markdown",
   "metadata": {},
   "source": [
    "### Miscellaneous advice\n",
    "\n",
    "- Use desciptive names for functions `calculate_height_statistics(students)` not `do_suff(data)`\n",
    "- If your function will alter the data you pass it (ie a text file or netCDF) end it with an underscore\n",
    "- Follow style guides like [PEP8](https://www.python.org/dev/peps/pep-0008/)\n",
    "- Read people's code on github\n",
    "- Try pair programming\n",
    "- Get familiar with your IDE (try [Pycharm](https://www.jetbrains.com/pycharm/download/#section=linux))\n",
    "- Learn another programming language\n",
    "- Try [rubber duck debugging](https://rubberduckdebugging.com/)\n",
    "- Get away from your computer. If you're stuck on a problem let your brain work on it subconciously. Go for walk, now's as good a time as ever (unless it's raining)\n"
   ]
  },
  {
   "cell_type": "markdown",
   "metadata": {},
   "source": [
    "One idea that really stood out for me was that of **cognitive resource**. You only have a certain amount of ability to process cognitive tasks. The more you can smooth your workflow to simplify or remove complications, the more cognitive power you can bring to bear on your task objectives. The tools and techniques Anthony talks about all contribute to lessening of cognitive leakage, making your work simpler, better organised and more coherent."
   ]
  },
  {
   "cell_type": "markdown",
   "metadata": {},
   "source": [
    "This was my take on Anthony's talk, if you have anything to add, get in touch! You might even do a [pull request](https://help.github.com/en/github/collaborating-with-issues-and-pull-requests/about-pull-requests) on [this repo](https://github.com/ueapy/ueapy.github.io/tree/10x-notes) with your added comments :) or drop me an email"
   ]
  },
  {
   "cell_type": "code",
   "execution_count": 3,
   "metadata": {},
   "outputs": [
    {
     "data": {
      "text/html": [
       "\n",
       "    <small>\n",
       "    <p> This post was written as an IPython (Jupyter) notebook. You can view or download it using\n",
       "    <a href=\"http://nbviewer.ipython.org/github/ueapy/ueapy.github.io/blob/src/content/notebooks/2019-11-21-become-a-10x-programmer.ipynb\">nbviewer</a>.</p>\n",
       "    "
      ],
      "text/plain": [
       "<IPython.core.display.HTML object>"
      ]
     },
     "execution_count": 3,
     "metadata": {},
     "output_type": "execute_result"
    }
   ],
   "source": [
    "HTML(html)"
   ]
  }
 ],
 "metadata": {
  "kernelspec": {
   "display_name": "Python 3",
   "language": "python",
   "name": "python3"
  },
  "language_info": {
   "codemirror_mode": {
    "name": "ipython",
    "version": 3
   },
   "file_extension": ".py",
   "mimetype": "text/x-python",
   "name": "python",
   "nbconvert_exporter": "python",
   "pygments_lexer": "ipython3",
   "version": "3.7.3"
  }
 },
 "nbformat": 4,
 "nbformat_minor": 2
}
