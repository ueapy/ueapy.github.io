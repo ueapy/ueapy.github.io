{
 "cells": [
  {
   "cell_type": "code",
   "execution_count": null,
   "metadata": {
    "collapsed": true
   },
   "outputs": [],
   "source": [
    "#AoC_2015_21\n",
    "#Procedural & OOP versions\n",
    "#https://adventofcode.com/2015/day/21\n",
    "#https://www.reddit.com/r/adventofcode/comments/3xspyl/day_21_solutions/"
   ]
  },
  {
   "cell_type": "markdown",
   "metadata": {},
   "source": [
    "### Import Packages"
   ]
  },
  {
   "cell_type": "code",
   "execution_count": 17,
   "metadata": {
    "collapsed": true
   },
   "outputs": [],
   "source": [
    "import numpy as np\n",
    "import itertools\n",
    "import warnings\n",
    "warnings.simplefilter(action='ignore')"
   ]
  },
  {
   "cell_type": "markdown",
   "metadata": {},
   "source": [
    "# Procedural code version"
   ]
  },
  {
   "cell_type": "code",
   "execution_count": 2,
   "metadata": {
    "collapsed": true
   },
   "outputs": [],
   "source": [
    "startbosshp = 104\n",
    "bossdamage = 8\n",
    "bossarmor = 1\n",
    "\n",
    "startplayerhp = 100\n",
    "playerdamage = 0\n",
    "playerarmor = 0"
   ]
  },
  {
   "cell_type": "markdown",
   "metadata": {},
   "source": [
    "### Named tuples tuples but BETTER!"
   ]
  },
  {
   "cell_type": "code",
   "execution_count": 3,
   "metadata": {
    "collapsed": true
   },
   "outputs": [],
   "source": [
    "from collections import namedtuple\n",
    "Item = namedtuple('item', ['name', 'cost', 'damage', 'armor'])\n",
    "\n",
    "weaponsnt = [\n",
    "    Item('Dagger', 8, 4, 0),\n",
    "    Item('Shortsword', 10, 5, 0),\n",
    "    Item('Warhammer', 25, 6, 0),\n",
    "    Item('Longsword', 40, 7, 0),\n",
    "    Item('Greataxe', 74, 8, 0),\n",
    "]\n",
    "\n",
    "armornt = [\n",
    "    Item('Leather', 13, 0, 1),\n",
    "    Item('Chainmail', 31, 0, 2),\n",
    "    Item('Splintmail', 53, 0, 3),\n",
    "    Item('Bandedmail', 75, 0, 4),\n",
    "    Item('Platemail', 102, 0, 5),\n",
    "    Item('Naked', 0, 0, 0),\n",
    "]\n",
    "\n",
    "ringsnt = [\n",
    "    Item('Damage +1', 25, 1, 0),\n",
    "    Item('Damage +2', 50, 2, 0),\n",
    "    Item('Damage +3', 100, 3, 0),\n",
    "    Item('Defense +1', 20, 0, 1),\n",
    "    Item('Defense +2', 40, 0, 2),\n",
    "    Item('Defense +3', 80, 0, 3),\n",
    "]"
   ]
  },
  {
   "cell_type": "markdown",
   "metadata": {},
   "source": [
    "### Set up arrays"
   ]
  },
  {
   "cell_type": "code",
   "execution_count": 4,
   "metadata": {},
   "outputs": [],
   "source": [
    "wn = 5 #weapons\n",
    "an = 6 #armor\n",
    "rn = 22 #rings\n",
    "\n",
    "comb = wn * an * rn #total number of possibilities\n",
    "\n",
    "#setup arrays\n",
    "player_spent = np.full((wn, an, rn), np.nan)\n",
    "player_damage = np.full((wn, an, rn), np.nan) #damage\n",
    "player_armor = np.full((wn, an, rn), np.nan) #cost\n",
    "\n",
    "#setup arrays\n",
    "#weapons = np.full((wn, 3), 0)\n",
    "armor = np.full((an, 3), 0)\n",
    "rings0 = np.full((6, 3), 0)\n",
    "rings = np.full((rn, 3), 0)\n",
    "\n",
    "weapons = np.array([[8, 4, 0], [10, 5, 0], [25, 6, 0], [40, 7, 0], [74, 8, 0]])\n",
    "armor[:,:] = [[13, 0, 1], [31, 0, 2], [53, 0, 3], [75, 0, 4], [102, 0, 5], [0, 0, 0]]\n",
    "rings0[:,:] = [[25, 1, 0], [50, 2, 0], [100, 3, 0], [20, 0, 1], [40, 0, 2], [80, 0, 3]]\n"
   ]
  },
  {
   "cell_type": "markdown",
   "metadata": {},
   "source": [
    "### Use itertool package to get 15 combinations of 2 rings"
   ]
  },
  {
   "cell_type": "code",
   "execution_count": 5,
   "metadata": {},
   "outputs": [
    {
     "name": "stdout",
     "output_type": "stream",
     "text": [
      "[('0', '1'), ('0', '2'), ('0', '3'), ('0', '4'), ('0', '5'), ('1', '2'), ('1', '3'), ('1', '4'), ('1', '5'), ('2', '3'), ('2', '4'), ('2', '5'), ('3', '4'), ('3', '5'), ('4', '5')]\n"
     ]
    }
   ],
   "source": [
    "ring_combs = (list(itertools.combinations('012345', 2)))\n",
    "print(ring_combs)"
   ]
  },
  {
   "cell_type": "markdown",
   "metadata": {},
   "source": [
    "### The [Cost, Damage, Armor] of the 22 ring combinations"
   ]
  },
  {
   "cell_type": "code",
   "execution_count": 6,
   "metadata": {},
   "outputs": [
    {
     "name": "stdout",
     "output_type": "stream",
     "text": [
      "[[  75.    3.    0.]\n",
      " [ 125.    4.    0.]\n",
      " [  45.    1.    1.]\n",
      " [  65.    1.    2.]\n",
      " [ 105.    1.    3.]\n",
      " [ 150.    5.    0.]\n",
      " [  70.    2.    1.]\n",
      " [  90.    2.    2.]\n",
      " [ 130.    2.    3.]\n",
      " [ 120.    3.    1.]\n",
      " [ 140.    3.    2.]\n",
      " [ 180.    3.    3.]\n",
      " [  60.    0.    3.]\n",
      " [ 100.    0.    4.]\n",
      " [ 120.    0.    5.]\n",
      " [  25.    1.    0.]\n",
      " [  50.    2.    0.]\n",
      " [ 100.    3.    0.]\n",
      " [  20.    0.    1.]\n",
      " [  40.    0.    2.]\n",
      " [  80.    0.    3.]\n",
      " [   0.    0.    0.]]\n"
     ]
    }
   ],
   "source": [
    "for i in range(0, len(ring_combs)):\n",
    "    rings[i, 0] = int(rings0[ring_combs[i][0]][0] + rings0[ring_combs[i][1]][0]) #spent\n",
    "    rings[i, 1] = int(rings0[ring_combs[i][0]][1] + rings0[ring_combs[i][1]][1]) #damage\n",
    "    rings[i, 2] = int(rings0[ring_combs[i][0]][2] + rings0[ring_combs[i][1]][2]) #armor\n",
    "rings[15:-1, :] = rings0[:,:]\n",
    "\n",
    "print(rings)"
   ]
  },
  {
   "cell_type": "markdown",
   "metadata": {},
   "source": [
    "### Fill 3x 660-cell 3D arrays with the cost, damage and armor for each kit-combination"
   ]
  },
  {
   "cell_type": "code",
   "execution_count": 7,
   "metadata": {
    "collapsed": true
   },
   "outputs": [],
   "source": [
    "for w in range(0, wn):\n",
    "    for a in range(0, an):\n",
    "        for r in range(0, rn):\n",
    "            player_spent[w, a, r] = weapons[w, 0] + armor[a, 0] + rings[r, 0]\n",
    "            player_damage[w, a, r] = weapons[w, 1] + armor[a, 1] + rings[r, 1]\n",
    "            player_armor[w, a, r] = weapons[w, 2] + armor[a, 2] + rings[r, 2]"
   ]
  },
  {
   "cell_type": "markdown",
   "metadata": {},
   "source": [
    "### E.g. [0,0,0] = rings: dam+1, dam+2, leather, dagger"
   ]
  },
  {
   "cell_type": "code",
   "execution_count": 8,
   "metadata": {},
   "outputs": [
    {
     "name": "stdout",
     "output_type": "stream",
     "text": [
      "playerspent= 96.0\n",
      "playerdamage= 7.0\n",
      "playerarmor= 1.0\n"
     ]
    }
   ],
   "source": [
    "playerspent = player_spent[0,0,0]\n",
    "print('playerspent=',playerspent)\n",
    "playerdamage = player_damage[0,0,0]\n",
    "print('playerdamage=',playerdamage)\n",
    "playerarmor = player_armor[0,0,0]\n",
    "print('playerarmor=',playerarmor)"
   ]
  },
  {
   "cell_type": "markdown",
   "metadata": {},
   "source": [
    "### 660 boss vs player battles"
   ]
  },
  {
   "cell_type": "code",
   "execution_count": 9,
   "metadata": {},
   "outputs": [
    {
     "name": "stdout",
     "output_type": "stream",
     "text": [
      "lowest cost while still winning = 91.0\n",
      "item(name='Longsword', cost=40, damage=7, armor=0)\n",
      "item(name='Chainmail', cost=31, damage=0, armor=2)\n",
      "ringscombi [ 20.   0.   1.]\n",
      "3\n",
      "1\n",
      "18\n",
      "-\n",
      "highest cost while still losing = 158.0\n",
      "item(name='Dagger', cost=8, damage=4, armor=0)\n",
      "item(name='Naked', cost=0, damage=0, armor=0)\n",
      "ringscombi [ 150.    5.    0.]\n",
      "0\n",
      "5\n",
      "5\n",
      "-\n",
      "win_no= 525\n",
      "lose_no= 135\n"
     ]
    }
   ],
   "source": [
    "bestspend = 999\n",
    "wi = 0\n",
    "ai = 0\n",
    "ri = 0\n",
    "worstspend = 0\n",
    "wi2 = 0\n",
    "ai2 = 0\n",
    "ri2 = 0\n",
    "win_no = 0\n",
    "lose_no = 0\n",
    "\n",
    "for w in range(0, wn): #length=5\n",
    "    for a in range(0, an): #length=6\n",
    "        for r in range(0, rn):  #length=22\n",
    "            #get 1 of 660\n",
    "            playerspent = player_spent[w, a, r]\n",
    "            playerdamage = player_damage[w, a, r]\n",
    "            playerarmor = player_armor[w, a, r]\n",
    "            bosshp = startbosshp\n",
    "            playerhp = startplayerhp\n",
    "\n",
    "            playeractdam = playerdamage - bossarmor\n",
    "            if (playeractdam < 1):\n",
    "                playeractdam = 1\n",
    "#             playactdam = max(playeractdam, 1)\n",
    "            bossactdam = bossdamage - playerarmor\n",
    "            if (bossactdam < 1):\n",
    "                bossactdam = 1\n",
    "\n",
    "            while (bosshp > 0) and (playerhp > 0): \n",
    "                #bosshp = bosshp - playeractdam\n",
    "                bosshp -= playeractdam\n",
    "                #playerhp = playerhp - bossactdam\n",
    "                playerhp -= bossactdam\n",
    "                \n",
    "            if playerhp > bosshp: #if I win\n",
    "                #win_no = win_no += 1\n",
    "                win_no += 1\n",
    "                if playerspent < bestspend:\n",
    "                    bestspend = playerspent\n",
    "                    wi = w\n",
    "                    ai = a\n",
    "                    ri = r\n",
    "                    \n",
    "            if playerhp < bosshp: #if I lose\n",
    "                #lose_no = lose_no + 1\n",
    "                lose_no += 1\n",
    "                if playerspent > worstspend:\n",
    "                    worstspend = playerspent\n",
    "                    wi2 = w\n",
    "                    ai2 = a\n",
    "                    ri2 = r\n",
    "\n",
    "\n",
    "\n",
    "\n",
    "print('lowest cost while still winning =',bestspend)\n",
    "print(weaponsnt[wi])\n",
    "print(armornt[ai])\n",
    "print('ringscombi',rings[ri])\n",
    "print(wi)\n",
    "print(ai)\n",
    "print(ri)\n",
    "print('-')\n",
    "print('highest cost while still losing =',worstspend)\n",
    "print(weaponsnt[wi2])\n",
    "print(armornt[ai2])\n",
    "print('ringscombi',rings[ri2])\n",
    "print(wi2)\n",
    "print(ai2)\n",
    "print(ri2)\n",
    "print('-')\n",
    "print('win_no=',win_no)\n",
    "print('lose_no=',lose_no)\n"
   ]
  },
  {
   "cell_type": "markdown",
   "metadata": {},
   "source": [
    "### Test a specific combination of weapons, armor and rings"
   ]
  },
  {
   "cell_type": "code",
   "execution_count": 11,
   "metadata": {},
   "outputs": [
    {
     "name": "stdout",
     "output_type": "stream",
     "text": [
      "bosshp= 96.0\n",
      "playerhp= 92.0\n",
      "-\n",
      "bosshp= 88.0\n",
      "playerhp= 84.0\n",
      "-\n",
      "bosshp= 80.0\n",
      "playerhp= 76.0\n",
      "-\n",
      "bosshp= 72.0\n",
      "playerhp= 68.0\n",
      "-\n",
      "bosshp= 64.0\n",
      "playerhp= 60.0\n",
      "-\n",
      "bosshp= 56.0\n",
      "playerhp= 52.0\n",
      "-\n",
      "bosshp= 48.0\n",
      "playerhp= 44.0\n",
      "-\n",
      "bosshp= 40.0\n",
      "playerhp= 36.0\n",
      "-\n",
      "bosshp= 32.0\n",
      "playerhp= 28.0\n",
      "-\n",
      "bosshp= 24.0\n",
      "playerhp= 20.0\n",
      "-\n",
      "bosshp= 16.0\n",
      "playerhp= 12.0\n",
      "-\n",
      "bosshp= 8.0\n",
      "playerhp= 4.0\n",
      "-\n",
      "bosshp= 0.0\n",
      "playerhp= -4.0\n",
      "-\n"
     ]
    }
   ],
   "source": [
    "ww = 0\n",
    "aa = 5\n",
    "rr = 5\n",
    "\n",
    "playerspend = player_spent[ww, aa, rr]\n",
    "playerdamage = player_damage[ww, aa, rr]\n",
    "playerarmor = player_armor[ww, aa, rr]\n",
    "bosshp = startbosshp\n",
    "playerhp = startplayerhp\n",
    "\n",
    "playeractdam = playerdamage - bossarmor\n",
    "if (playeractdam < 1):\n",
    "    playeractdam = 1\n",
    "bossactdam = bossdamage - playerarmor\n",
    "if (bossactdam < 1):\n",
    "    bossactdam = 1\n",
    "\n",
    "while (bosshp > 0) & (playerhp > 0): \n",
    "    bosshp = bosshp - playeractdam\n",
    "    playerhp = playerhp - bossactdam\n",
    "    print('bosshp=',bosshp)\n",
    "    print('playerhp=',playerhp)\n",
    "    print('-')"
   ]
  },
  {
   "cell_type": "markdown",
   "metadata": {
    "collapsed": true
   },
   "source": [
    "# OOP code version"
   ]
  },
  {
   "cell_type": "markdown",
   "metadata": {},
   "source": [
    "### Make the boss and player class individually or.."
   ]
  },
  {
   "cell_type": "code",
   "execution_count": 12,
   "metadata": {
    "collapsed": true
   },
   "outputs": [],
   "source": [
    "# class Boss:\n",
    "#     def __init__(self, hp, damage, armor):\n",
    "#         self.hp = hp\n",
    "#         self.damage = damage\n",
    "#         self.armor = armor\n",
    "        \n",
    "#     def calc_actdamage(self, playerarmor):\n",
    "#         self.actdamage = self.damage - playerarmor\n",
    "#         if (self.actdamage < 1):\n",
    "#             self.actdamage = 1\n",
    "        \n",
    "# class Player:\n",
    "#     def __init__(self, spent, hp, damage, armor):\n",
    "#         self.spent = spent\n",
    "#         self.hp = hp\n",
    "#         self.damage = damage\n",
    "#         self.armor = armor\n",
    "    \n",
    "#     def calc_actdamage(self, bossarmor):\n",
    "#         self.actdamage = self.damage - bossarmor\n",
    "#         if (self.actdamage < 1):\n",
    "#             self.actdamage = 1"
   ]
  },
  {
   "cell_type": "markdown",
   "metadata": {
    "collapsed": true
   },
   "source": [
    "### ...Use inheritance"
   ]
  },
  {
   "cell_type": "code",
   "execution_count": 13,
   "metadata": {
    "collapsed": true
   },
   "outputs": [],
   "source": [
    "class RpgChara:\n",
    "    def __init__(self, hp, damage, armor):\n",
    "        self.hp = hp\n",
    "        self.damage = damage\n",
    "        self.armor = armor\n",
    "        \n",
    "    def calc_actdamage(self, enemyarmor):\n",
    "        self.actdamage = self.damage - enemyarmor\n",
    "        if (self.actdamage < 1):\n",
    "            self.actdamage = 1\n",
    "            \n",
    "class Boss(RpgChara):\n",
    "    pass\n",
    "    \n",
    "class Player(RpgChara):\n",
    "    def __init__(self, spent, hp, damage, armor):\n",
    "        super().__init__(hp, damage, armor)\n",
    "        self.spent = spent"
   ]
  },
  {
   "cell_type": "markdown",
   "metadata": {
    "collapsed": true
   },
   "source": [
    "### another 660 fights, OOP style"
   ]
  },
  {
   "cell_type": "code",
   "execution_count": 16,
   "metadata": {},
   "outputs": [
    {
     "name": "stdout",
     "output_type": "stream",
     "text": [
      "lowest spend while still winning = 91.0\n",
      "item(name='Longsword', cost=40, damage=7, armor=0)\n",
      "item(name='Chainmail', cost=31, damage=0, armor=2)\n",
      "ringscombi [ 20.   0.   1.]\n",
      "18\n",
      "-\n",
      "highest spend while still losing = 158.0\n",
      "item(name='Dagger', cost=8, damage=4, armor=0)\n",
      "item(name='Naked', cost=0, damage=0, armor=0)\n",
      "ringscombi [ 150.    5.    0.]\n",
      "5\n",
      "-\n",
      "win_no= 525\n",
      "lose_no= 135\n"
     ]
    }
   ],
   "source": [
    "bestspend = 999 #too high in order to come down\n",
    "wi = 0\n",
    "ai = 0\n",
    "ri = 0\n",
    "worstspend = 0 #too low in order to go up\n",
    "wi2 = 0\n",
    "ai2 = 0\n",
    "ri2 = 0\n",
    "win_no = 0\n",
    "lose_no = 0\n",
    "\n",
    "for w in range(0, wn): #length5\n",
    "    for a in range(0, an): #length6\n",
    "        for r in range(0, rn): #length22\n",
    "            #get 1 of 660 instances per loop         \n",
    "            boss_i = Boss(startbosshp, bossdamage, bossarmor)\n",
    "            player_i = Player(player_spent[w, a, r], startplayerhp, player_damage[w, a, r], \\\n",
    "                              player_armor[w, a, r])\n",
    "            \n",
    "            #but what is their actual damage\n",
    "            boss_i.calc_actdamage(player_i.armor)\n",
    "            player_i.calc_actdamage(boss_i.armor)\n",
    "            \n",
    "            while (boss_i.hp > 0) & (player_i.hp > 0): \n",
    "                boss_i.hp -= player_i.actdamage\n",
    "                player_i.hp -= boss_i.actdamage\n",
    "            \n",
    "            if player_i.hp > boss_i.hp: #if I win\n",
    "                win_no += 1\n",
    "                if player_i.spent < bestspend:\n",
    "                    bestspend = player_i.spent\n",
    "                    wi = w\n",
    "                    ai = a\n",
    "                    ri = r\n",
    "                \n",
    "            if player_i.hp < boss_i.hp: #if I lose\n",
    "                lose_no += 1   \n",
    "                if player_i.spent > worstspend:\n",
    "                    worstspend = player_i.spent\n",
    "                    wi2 = w\n",
    "                    ai2 = a\n",
    "                    ri2 = r\n",
    "\n",
    "print('lowest spend while still winning =',bestspend)\n",
    "print(weaponsnt[wi])\n",
    "print(armornt[ai])\n",
    "print('ringscombi',rings[ri])\n",
    "print(ri)\n",
    "print('-')\n",
    "print('highest spend while still losing =',worstspend)\n",
    "print(weaponsnt[wi2])\n",
    "print(armornt[ai2])\n",
    "print('ringscombi',rings[ri2])\n",
    "print(ri2)\n",
    "print('-')\n",
    "print('win_no=',win_no)\n",
    "print('lose_no=',lose_no)"
   ]
  }
 ],
 "metadata": {
  "kernelspec": {
   "display_name": "Python [default]",
   "language": "python",
   "name": "python3"
  },
  "language_info": {
   "codemirror_mode": {
    "name": "ipython",
    "version": 3
   },
   "file_extension": ".py",
   "mimetype": "text/x-python",
   "name": "python",
   "nbconvert_exporter": "python",
   "pygments_lexer": "ipython3",
   "version": "3.5.3"
  }
 },
 "nbformat": 4,
 "nbformat_minor": 2
}
